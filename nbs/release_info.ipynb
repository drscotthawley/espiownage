{
 "cells": [
  {
   "cell_type": "markdown",
   "metadata": {},
   "source": [
    "# Release of Code, Datasets, & Pretrained Model Weights"
   ]
  },
  {
   "cell_type": "code",
   "execution_count": null,
   "metadata": {},
   "outputs": [],
   "source": [
    "#hide\n",
    "#all_slow"
   ]
  },
  {
   "cell_type": "markdown",
   "metadata": {},
   "source": [
    "## Code\n",
    "\n",
    "You're looking at the code -- the notebooks *are* the code, with the exception of the [Ellipse Editor and Console Scripts](script_doc.html). Currently this is an anonymous mirror of a non-anonymous repository of a very similar name."
   ]
  },
  {
   "cell_type": "markdown",
   "metadata": {},
   "source": [
    "## Datasets\n",
    "\n",
    "We weren't sure how to anonymously release a dataset on Zenodo. So for now, during the review process, we have datasets stored on Dropbox that are accessible via the [get_data()](core.html#get_data) function. Arguments to `get_data` are:\n",
    "\n",
    "* 'cleaner'  = Our Real dataset (clean-er than precleaned)\n",
    "* 'preclean' = The aggregated output of 15 or more volunteers (per annotation) on Zooniverse\n",
    "* 'spnet'  = The formerly-private Real dataset from Hawley & Morrison's [\"ConvNets for Counting...\"](https://arxiv.org/abs/2102.00632)/\"SPNet\" paper. Released with the original authors' permission. \n",
    "* 'cyclegan' = The 1200-image \"CGSmall\" subset of the public [\"SPNet Dataset Release\"](https://zenodo.org/record/4445434) used for the SPNet paper. Note that the ring counts in this dataset are only integers.\n",
    "* 'fake2' = We created a new 'fake' dataset like the one used on SPNet but without the former's limitation of integer-quantized ring counts.   ...We didn't get a chance to CycleGAN it in time, but we plan to do so soon.\n",
    "\n",
    "Pending favorable review, these datasets will be released on Zenodo with relevant authors' names. \n",
    "\n",
    "> Note: The above datasets are each approximately 2000 images and their corresponding labels, crops, etc.   One dataset we will *not* be releasing is the full 14,000-frame unlabeled set of videos of the drum, from which a few of the paper graphs, i.e. those in Figure 4, are derived.  These 14000 frames are being kept back as \"proprietary\" so that the authors can learn & publish about additional physics now that we have the tools to study this sytem."
   ]
  },
  {
   "cell_type": "markdown",
   "metadata": {},
   "source": [
    "## Pretrained Model Weights\n",
    "\n",
    "These too are stored on Dropbox for now, and the function [get_checkpoint()](https://maskedstudent.github.io/espiownage/core.html#get_checkpoint) is intended to load them as with get_data.  We release weights for the real dataset tasks of \n",
    "* bounding box detection\n",
    "* counting rings in cropped images\n",
    "* segmentation-regression\n",
    "* segmentation (all one class)"
   ]
  },
  {
   "cell_type": "markdown",
   "metadata": {},
   "source": [
    "## Full Release Directory\n",
    "The data and the weights both exist in Dropbox as sub-directories of a publicly-accessible `espiownage-release` directory, accessible via [this link](https://www.dropbox.com/sh/24eqya4frqg5i7c/AABpRYM--X0j3vVMnj59aWvFa?dl=0).  After the anonymous review process, a redirect will be placed there to point to the full (author-named) release repository. "
   ]
  },
  {
   "cell_type": "code",
   "execution_count": null,
   "metadata": {},
   "outputs": [],
   "source": []
  }
 ],
 "metadata": {
  "kernelspec": {
   "display_name": "Python 3 (ipykernel)",
   "language": "python",
   "name": "python3"
  }
 },
 "nbformat": 4,
 "nbformat_minor": 1
}
