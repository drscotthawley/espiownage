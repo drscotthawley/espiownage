{
 "cells": [
  {
   "cell_type": "code",
   "execution_count": null,
   "metadata": {},
   "outputs": [],
   "source": [
    "# default_exp core"
   ]
  },
  {
   "cell_type": "markdown",
   "metadata": {},
   "source": [
    "# espiownage core\n",
    "\n",
    "> Core espiownage parts"
   ]
  },
  {
   "cell_type": "code",
   "execution_count": null,
   "metadata": {},
   "outputs": [],
   "source": [
    "#hide\n",
    "from nbdev.showdoc import *"
   ]
  },
  {
   "cell_type": "code",
   "execution_count": null,
   "metadata": {},
   "outputs": [],
   "source": [
    "#export \n",
    "import cv2\n",
    "import numpy as np\n",
    "from pathlib import Path\n",
    "import os\n",
    "import matplotlib.pyplot as plt"
   ]
  },
  {
   "cell_type": "code",
   "execution_count": null,
   "metadata": {},
   "outputs": [],
   "source": [
    "#export\n",
    "def mkdir_if_needed(path):\n",
    "    try:                # go ahead and try to make the the directory\n",
    "        os.makedirs(path)\n",
    "    except FileExistsError: pass\n",
    "    except OSError as exception:\n",
    "        if exception.errno != errno.EEXIST:  # ignore error if dir already exists\n",
    "            raise"
   ]
  },
  {
   "cell_type": "code",
   "execution_count": null,
   "metadata": {},
   "outputs": [],
   "source": [
    "#export \n",
    "def meta_to_img_path(meta_file, # filename of .csv file with annotations\n",
    "    img_bank='images/',         # alternate location of image files, if not in same dir as meta file\n",
    "    ):\n",
    "    '''Suggest the image file that corresponds with an annotation CSV file'''\n",
    "    meta_file, img_dir = Path(meta_file), Path(os.path.expanduser(img_bank))\n",
    "    img_file = meta_file.with_suffix('.png')  # check same directory as meta first\n",
    "    if os.path.exists(img_file): return img_file\n",
    "    return img_dir / Path(img_file.name)  # return from image storage directory"
   ]
  },
  {
   "cell_type": "code",
   "execution_count": null,
   "metadata": {},
   "outputs": [
    {
     "data": {
      "text/plain": [
       "PosixPath('images/06241902_proc_00023.png')"
      ]
     },
     "execution_count": null,
     "metadata": {},
     "output_type": "execute_result"
    }
   ],
   "source": [
    "meta_to_img_path('annotations/06241902_proc_00023.csv')"
   ]
  },
  {
   "cell_type": "code",
   "execution_count": null,
   "metadata": {},
   "outputs": [],
   "source": [
    "#export \n",
    "def meta_to_mask_path(\n",
    "    meta_file, # filename of .csv file with annotations\n",
    "    mask_dir='masks/',  # output directory; assumed to exist\n",
    "    ):\n",
    "    \"provides name for segmentation mask file\"\n",
    "    csv_path = Path(meta_file)\n",
    "    return Path(mask_dir + csv_path.stem+'_P.png')  # _P because that's what CAMVID dataset does  "
   ]
  },
  {
   "cell_type": "code",
   "execution_count": null,
   "metadata": {},
   "outputs": [
    {
     "data": {
      "text/plain": [
       "PosixPath('masks/06241902_proc_00023_P.png')"
      ]
     },
     "execution_count": null,
     "metadata": {},
     "output_type": "execute_result"
    }
   ],
   "source": [
    "meta_to_mask_path('annotations/06241902_proc_00023.csv')"
   ]
  },
  {
   "cell_type": "code",
   "execution_count": null,
   "metadata": {},
   "outputs": [],
   "source": [
    "#export \n",
    "def fix_abangle(a,b,angle):\n",
    "    \"Makes sure semimajor axis > semiminor axis, and angles are consistent\"\n",
    "    if b > a:\n",
    "        a, b, angle = b, a, angle+90\n",
    "    if angle < 0: angle += 180\n",
    "    elif angle >= 180: angle -= 180\n",
    "    return a, b, angle"
   ]
  },
  {
   "cell_type": "code",
   "execution_count": null,
   "metadata": {},
   "outputs": [
    {
     "data": {
      "text/plain": [
       "(10, 5, 70)"
      ]
     },
     "execution_count": null,
     "metadata": {},
     "output_type": "execute_result"
    }
   ],
   "source": [
    "fix_abangle(5,10,-20)"
   ]
  },
  {
   "cell_type": "code",
   "execution_count": null,
   "metadata": {},
   "outputs": [],
   "source": [
    "#export \n",
    "def draw_ellipse(\n",
    "    img,     # a cv2 image, not a PIL image?\n",
    "    center, axes, angle,\n",
    "    startAngle=0, endAngle=360, color=(0) ,\n",
    "    thickness=2, lineType=cv2.LINE_AA, shift=10, filled=False):\n",
    "    \"\"\"\"Draws an ellipse into image.\n",
    "    startAngle & endAngle should are arc-angles. They should stay at 0 & 360 for full ellipses.\n",
    "    \"\"\"\n",
    "    center = [int(round(x* 2**shift)) for x in center]  \n",
    "    axes = [int(round(x* 2**shift)) for x in axes]\n",
    "    if filled: lineType,thickness = cv2.FILLED, -1\n",
    "    ellipse = cv2.ellipse(\n",
    "        img, center, axes, -angle,   # -angle because the web interface is \"upside down\"\n",
    "        startAngle, endAngle, color,\n",
    "        thickness, lineType, shift)\n",
    "    return ellipse"
   ]
  },
  {
   "cell_type": "code",
   "execution_count": null,
   "metadata": {},
   "outputs": [
    {
     "data": {
      "text/plain": [
       "<matplotlib.image.AxesImage at 0x7f202a7c4fa0>"
      ]
     },
     "execution_count": null,
     "metadata": {},
     "output_type": "execute_result"
    },
    {
     "data": {
      "image/png": "[encoded data removed]",
      "text/plain": [
       "<Figure size 432x288 with 1 Axes>"
      ]
     },
     "metadata": {
      "needs_background": "light"
     },
     "output_type": "display_data"
    }
   ],
   "source": [
    "height, width = 512,384\n",
    "img = np.zeros((width, height), dtype=np.uint8)  # numpy w/h is \"backwards\" to images\n",
    "cx, cy, a, b, angle = 157, 213, 85, 67, 45\n",
    "img = draw_ellipse(img, (cx,cy), (a,b), angle, color=100, filled=True)\n",
    "plt.imshow(img)"
   ]
  },
  {
   "cell_type": "code",
   "execution_count": null,
   "metadata": {},
   "outputs": [],
   "source": [
    "#export \n",
    "def ellipse_to_bbox(x, y, a, b, angle_deg,\n",
    "    clip=True, width=512, height=384):  # cx, cy, a, b, angle\n",
    "    \"Get bounding box of ellipse, cf. https://gist.github.com/smidm/b398312a13f60c24449a2c7533877dc0\"\n",
    "    major, minor = 2*a, 2*b \n",
    "    t = np.arctan(-minor / 2 * np.tan(np.radians(angle_deg)) / (major / 2))\n",
    "    [max_x, min_x] = sorted([x + major / 2 * np.cos(t) * np.cos(np.radians(angle_deg)) -\n",
    "                      minor / 2 * np.sin(t) * np.sin(np.radians(angle_deg)) for t in (t, t + np.pi)],reverse=True)\n",
    "    t = np.arctan(minor / 2 * 1. / np.tan(np.radians(angle_deg)) / (major / 2))\n",
    "    [max_y, min_y] = sorted([y + minor / 2 * np.sin(t) * np.cos(np.radians(angle_deg)) +\n",
    "                      major / 2 * np.cos(t) * np.sin(np.radians(angle_deg)) for t in (t, t + np.pi)],reverse=True)\n",
    "    if clip:\n",
    "      min_x = np.clip(min_x, 0, width)\n",
    "      max_x = np.clip(max_x, 0, width)\n",
    "      min_y = np.clip(min_y, 0, height)\n",
    "      max_y = np.clip(max_y, 0, height)\n",
    "    return int(min_x), int(min_y), int(max_x), int(max_y)"
   ]
  },
  {
   "cell_type": "code",
   "execution_count": null,
   "metadata": {},
   "outputs": [
    {
     "name": "stdout",
     "output_type": "stream",
     "text": [
      "(80, 136, 233, 289)\n"
     ]
    },
    {
     "data": {
      "text/plain": [
       "<matplotlib.image.AxesImage at 0x7f202a732d60>"
      ]
     },
     "execution_count": null,
     "metadata": {},
     "output_type": "execute_result"
    },
    {
     "data": {
      "image/png": "[encoded data removed]",
      "text/plain": [
       "<Figure size 432x288 with 1 Axes>"
      ]
     },
     "metadata": {
      "needs_background": "light"
     },
     "output_type": "display_data"
    }
   ],
   "source": [
    "bb = ellipse_to_bbox(cx, cy, a, b, angle)\n",
    "print(bb)\n",
    "img = cv2.rectangle(img, bb[0:2], bb[2:4], color=50, thickness=2)\n",
    "plt.imshow(img)"
   ]
  },
  {
   "cell_type": "code",
   "execution_count": null,
   "metadata": {},
   "outputs": [],
   "source": []
  }
 ],
 "metadata": {
  "kernelspec": {
   "display_name": "Python 3 (ipykernel)",
   "language": "python",
   "name": "python3"
  }
 },
 "nbformat": 4,
 "nbformat_minor": 2
}
