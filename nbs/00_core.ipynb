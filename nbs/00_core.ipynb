{
 "cells": [
  {
   "cell_type": "code",
   "execution_count": null,
   "metadata": {},
   "outputs": [],
   "source": [
    "# default_exp core"
   ]
  },
  {
   "cell_type": "markdown",
   "metadata": {},
   "source": [
    "# espiownage core\n",
    "\n",
    "> Core espiownage parts"
   ]
  },
  {
   "cell_type": "code",
   "execution_count": null,
   "metadata": {},
   "outputs": [],
   "source": [
    "#hide\n",
    "#from nbdev.showdoc import *\n",
    "from nbverbose.showdoc import *"
   ]
  },
  {
   "cell_type": "code",
   "execution_count": null,
   "metadata": {},
   "outputs": [],
   "source": [
    "#export \n",
    "import cv2\n",
    "from PIL import Image\n",
    "import numpy as np\n",
    "from pathlib import Path\n",
    "import os\n",
    "import pandas as pd\n",
    "from fastai.torch_core import flatten_check\n",
    "import re\n",
    "import math\n",
    "import torch \n"
   ]
  },
  {
   "cell_type": "markdown",
   "metadata": {},
   "source": [
    "## General logging"
   ]
  },
  {
   "cell_type": "code",
   "execution_count": null,
   "metadata": {},
   "outputs": [],
   "source": [
    "#export\n",
    "#slow\n",
    "def sysinfo(): \n",
    "    \"Prints out versions of PyTorch, CUDA, name of GPU and host machine (for logging)\"\n",
    "    try:\n",
    "        tv, cv = torch.__version__, torch.version.cuda\n",
    "        tv = re.sub('\\+cu.*','',tv)\n",
    "        TORCH_VERSION = 'torch'+tv[0:-1]+'0'\n",
    "        CUDA_VERSION = 'cu'+cv.replace('.','')\n",
    "        print(f\"TORCH_VERSION={TORCH_VERSION}; CUDA_VERSION={CUDA_VERSION}\")\n",
    "        print(f\"CUDA available = {torch.cuda.is_available()}, Device count = {torch.cuda.device_count()}, Current device = {torch.cuda.current_device()}\")\n",
    "        print(f\"Device name = {torch.cuda.get_device_name()}\")\n",
    "    except:\n",
    "        print(\"No CUDA info available!  (That's bad)\")\n",
    "    print(\"hostname:\",os.uname()[1])"
   ]
  },
  {
   "cell_type": "code",
   "execution_count": null,
   "metadata": {},
   "outputs": [
    {
     "name": "stdout",
     "output_type": "stream",
     "text": [
      "TORCH_VERSION=torch1.8.0; CUDA_VERSION=cu102\n",
      "CUDA available = True, Device count = 1, Current device = 0\n",
      "Device name = NVIDIA GeForce RTX 2070 with Max-Q Design\n",
      "hostname: oryxpro\n"
     ]
    }
   ],
   "source": [
    "sysinfo()"
   ]
  },
  {
   "cell_type": "markdown",
   "metadata": {},
   "source": [
    "## Files and filename manipulation"
   ]
  },
  {
   "cell_type": "code",
   "execution_count": null,
   "metadata": {},
   "outputs": [],
   "source": [
    "#export\n",
    "def mkdir_if_needed(path:str):\n",
    "    try:                # go ahead and try to make the the directory\n",
    "        os.makedirs(path)\n",
    "    except FileExistsError: pass\n",
    "    except OSError as exception:\n",
    "        if exception.errno != errno.EEXIST:  # ignore error if dir already exists\n",
    "            raise"
   ]
  },
  {
   "cell_type": "code",
   "execution_count": null,
   "metadata": {},
   "outputs": [],
   "source": [
    "#export \n",
    "def meta_to_img_path(\n",
    "    meta_file:str, # filename of .csv file with annotations\n",
    "    img_bank='images/',         # alternate location of image files, if not in same dir as meta file\n",
    "    ):\n",
    "    '''Suggest the image file that corresponds with an annotation CSV file'''\n",
    "    meta_file, img_dir = Path(meta_file), Path(os.path.expanduser(img_bank))\n",
    "    img_file = meta_file.with_suffix('.png')  # check same directory as meta first\n",
    "    if os.path.exists(img_file): return img_file\n",
    "    return img_dir / Path(img_file.name)  # return from image storage directory"
   ]
  },
  {
   "cell_type": "code",
   "execution_count": null,
   "metadata": {},
   "outputs": [
    {
     "data": {
      "text/plain": [
       "Path('images/06241902_proc_00023.png')"
      ]
     },
     "execution_count": null,
     "metadata": {},
     "output_type": "execute_result"
    }
   ],
   "source": [
    "meta_to_img_path('annotations/06241902_proc_00023.csv')"
   ]
  },
  {
   "cell_type": "code",
   "execution_count": null,
   "metadata": {},
   "outputs": [],
   "source": [
    "#export \n",
    "def meta_to_mask_path(\n",
    "    meta_file:str, # filename of .csv file with annotations\n",
    "    mask_dir='masks/',  # output directory; assumed to exist\n",
    "    ):\n",
    "    \"provides name for segmentation mask file\"\n",
    "    csv_path = Path(meta_file)\n",
    "    return Path(mask_dir + csv_path.stem+'_P.png')  # _P because that's what CAMVID dataset does  "
   ]
  },
  {
   "cell_type": "code",
   "execution_count": null,
   "metadata": {},
   "outputs": [
    {
     "data": {
      "text/plain": [
       "Path('masks/06241902_proc_00023_P.png')"
      ]
     },
     "execution_count": null,
     "metadata": {},
     "output_type": "execute_result"
    }
   ],
   "source": [
    "meta_to_mask_path('annotations/06241902_proc_00023.csv')"
   ]
  },
  {
   "cell_type": "code",
   "execution_count": null,
   "metadata": {},
   "outputs": [],
   "source": [
    "#export \n",
    "def meta_from_str(s):\n",
    "    \"e.g., 06241902_proc_00510_0_45_88_236_1.0 -> 06241902_proc_00510.csv\"\n",
    "    # grab numbers on either side of _proc_\n",
    "    s = s.split('.')[0]\n",
    "    splits = s.split('_')\n",
    "    return splits[0]+'_'+splits[1]+'_'+splits[2]+'.csv'"
   ]
  },
  {
   "cell_type": "code",
   "execution_count": null,
   "metadata": {},
   "outputs": [],
   "source": [
    "assert meta_from_str('06241902_proc_00510_0_45_88_236_1.0.csv') == '06241902_proc_00510.csv'\n",
    "assert meta_from_str('06241902_proc_00510_0_45_88_236.csv') == '06241902_proc_00510.csv'\n",
    "assert meta_from_str('06241902_proc_00510.png') == '06241902_proc_00510.csv'"
   ]
  },
  {
   "cell_type": "code",
   "execution_count": null,
   "metadata": {},
   "outputs": [],
   "source": [
    "#export\n",
    "def combine_file_and_tl_lists(file_list, top_loss_list):\n",
    "    \"\"\"for ellipse editor, but adding here: \n",
    "    Go through tl list, and if elem e is not in file list, don't copy\n",
    "    then go through file_list, and if e is already in, don't add\"\"\"\n",
    "    if [] == top_loss_list: return file_list\n",
    "    new_list = []\n",
    "    basenames = [os.path.basename(f) for f in file_list]\n",
    "    fldirname = os.path.dirname(file_list[0])\n",
    "    meta_top_loss_list = [meta_from_str(x) for x in top_loss_list] # convert from whatever janky name is in tl list\n",
    "    for e in meta_top_loss_list:\n",
    "        if e in basenames: new_list.append(fldirname+'/'+e)\n",
    "    for e in file_list:\n",
    "        if e not in new_list: new_list.append(e)\n",
    "    return new_list"
   ]
  },
  {
   "cell_type": "code",
   "execution_count": null,
   "metadata": {},
   "outputs": [
    {
     "name": "stdout",
     "output_type": "stream",
     "text": [
      "file_list = ['annotations_hawley/06241902_proc_00000.csv', 'annotations_hawley/06240907_proc_01001.csv', 'annotations_hawley/06241902_proc_00004.csv', 'annotations_hawley/06240907_proc_01756.csv', 'annotations_hawley/06241902_proc_00009.csv', 'annotations_hawley/06241902_proc_00013.csv']\n",
      "\n",
      "top_lost_list = ['06241902_proc_00510_0_45_88_236_1.0', '06240907_proc_01001_0_115_187_322_2.4', '06240907_proc_01197_0_105_185_338_3.33', '06241902_proc_00986_136_73_293_214_2.0', '06241902_proc_01468_0_58_81_211_3.75', '06240907_proc_01756_0_132_158_315_1.3', '06240907_proc_01101_0_101_172_326_4.0']\n",
      "\n",
      "out =  ['annotations_hawley/06240907_proc_01001.csv', 'annotations_hawley/06240907_proc_01756.csv', 'annotations_hawley/06241902_proc_00000.csv', 'annotations_hawley/06241902_proc_00004.csv', 'annotations_hawley/06241902_proc_00009.csv', 'annotations_hawley/06241902_proc_00013.csv']\n"
     ]
    }
   ],
   "source": [
    "file_list = ['annotations_hawley/06241902_proc_00000.csv', 'annotations_hawley/06240907_proc_01001.csv', 'annotations_hawley/06241902_proc_00004.csv', 'annotations_hawley/06240907_proc_01756.csv', 'annotations_hawley/06241902_proc_00009.csv', 'annotations_hawley/06241902_proc_00013.csv']\n",
    "top_loss_list = ['06241902_proc_00510_0_45_88_236_1.0', '06240907_proc_01001_0_115_187_322_2.4', '06240907_proc_01197_0_105_185_338_3.33', '06241902_proc_00986_136_73_293_214_2.0', '06241902_proc_01468_0_58_81_211_3.75', '06240907_proc_01756_0_132_158_315_1.3', '06240907_proc_01101_0_101_172_326_4.0']\n",
    "print(\"file_list =\",file_list)\n",
    "print(\"\\ntop_lost_list =\",top_loss_list)\n",
    "out = combine_file_and_tl_lists(file_list, top_loss_list)\n",
    "print(\"\\nout = \",out)"
   ]
  },
  {
   "cell_type": "code",
   "execution_count": null,
   "metadata": {},
   "outputs": [],
   "source": [
    "#export \n",
    "def meta_to_df(\n",
    "    meta_file,  # csv file of ellipse data for an image\n",
    "    ):\n",
    "    \"Reads in an espiownage/SPNet CSV file of ellipse data and returns a Pandas DataFrame\"\n",
    "    col_names = ['cx', 'cy', 'a', 'b', 'angle', 'rings']\n",
    "    df = pd.read_csv(meta_file, header=None, names=col_names)\n",
    "    df.drop_duplicates(inplace=True)  # sometimes the data from Zooniverse has duplicate rows\n",
    "    for index, row in df.iterrows() : # fixup stuff\n",
    "        [cx, cy, a, b, angle] = [int(round(x)) for x in [row['cx'], row['cy'], row['a'], row['b'], row['angle']]]\n",
    "        a, b, angle = fix_abangle(a,b,angle)\n",
    "        row['cx'], row['cy'], row['a'], row['b'], row['angle'] = cx, cy, a, b, angle\n",
    "    return df"
   ]
  },
  {
   "cell_type": "markdown",
   "metadata": {},
   "source": [
    "## Ellipses and math"
   ]
  },
  {
   "cell_type": "code",
   "execution_count": null,
   "metadata": {},
   "outputs": [],
   "source": [
    "#export \n",
    "def fix_abangle(\n",
    "    a:float, # semimajor axis\n",
    "    b:float, # semiminor axis\n",
    "    angle:float,  # orientation angle in degrees\n",
    "    ):\n",
    "    \"Makes sure semimajor axis > semiminor axis, and angles are consistent\"\n",
    "    if b > a:\n",
    "        a, b, angle = b, a, angle+90\n",
    "    if angle < 0: angle += 180\n",
    "    elif angle >= 180: angle -= 180\n",
    "    return a, b, angle"
   ]
  },
  {
   "cell_type": "code",
   "execution_count": null,
   "metadata": {},
   "outputs": [
    {
     "data": {
      "text/plain": [
       "(10, 5, 70)"
      ]
     },
     "execution_count": null,
     "metadata": {},
     "output_type": "execute_result"
    }
   ],
   "source": [
    "fix_abangle(5,10,-20)"
   ]
  },
  {
   "cell_type": "code",
   "execution_count": null,
   "metadata": {},
   "outputs": [],
   "source": [
    "#export \n",
    "def draw_ellipse(\n",
    "    img,         # a cv2 image, *not* a PIL image (similar for grayscale but not RGB)\n",
    "    center:tuple,      # (cx, cy) tuple\n",
    "    axes:tuple,        # (a,b) semimajor & minor axes\n",
    "    angle:float,       # orientation angle in degrees\n",
    "    color=(0),   # color to draw. tuple or int\n",
    "    thickness=2, # thickness ofthe lines we draw\n",
    "    filled=False,  # whether to draw the ellipse as filled or not\n",
    "    lineType=cv2.LINE_8,  # as opposed to LINE_AA, typically we DON'T want antialiasing for this app \n",
    "    startAngle=0, endAngle=360, # arc-angles. should stay at 0 & 360 for full ellipses.\n",
    "    shift=0, #10,      # shift is for sub-pixel resolution and AA figures. don't need it.\n",
    "    ):\n",
    "    \"\"\"\"Draws an ellipse into image.    \"\"\"\n",
    "    center = [int(round(x* 2**shift)) for x in center]  \n",
    "    axes = [int(round(x* 2**shift)) for x in axes]\n",
    "    if filled: lineType, thickness = cv2.FILLED, -1\n",
    "    ellipse = cv2.ellipse(\n",
    "        img, center, axes, -angle,   # -angle because the web interface is \"upside down\"\n",
    "        startAngle, endAngle, color,\n",
    "        thickness, lineType, shift)\n",
    "    return ellipse"
   ]
  },
  {
   "cell_type": "code",
   "execution_count": null,
   "metadata": {},
   "outputs": [
    {
     "data": {
      "text/plain": [
       "<matplotlib.image.AxesImage at 0x7f22c88fc4c0>"
      ]
     },
     "execution_count": null,
     "metadata": {},
     "output_type": "execute_result"
    },
    {
     "data": {
      "image/png": "[encoded data removed]",
      "text/plain": [
       "<Figure size 432x288 with 1 Axes>"
      ]
     },
     "metadata": {
      "needs_background": "light"
     },
     "output_type": "display_data"
    }
   ],
   "source": [
    "import matplotlib.pyplot as plt\n",
    "\n",
    "height, width = 512,384\n",
    "cx, cy, a, b, angle = 157, 213, 85, 67, 45\n",
    "img = np.zeros((width, height), dtype=np.uint8)  # numpy w/h is \"backwards\" to images\n",
    "img = draw_ellipse(img, (cx,cy), (a,b), angle, color=100, filled=False)\n",
    "plt.imshow(img)"
   ]
  },
  {
   "cell_type": "markdown",
   "metadata": {},
   "source": [
    "Let's check what \"colors\" are in that file, e.g. to make sure there's no anti-aliasing"
   ]
  },
  {
   "cell_type": "code",
   "execution_count": null,
   "metadata": {},
   "outputs": [
    {
     "name": "stdout",
     "output_type": "stream",
     "text": [
      "'colors' = {0, 100}\n"
     ]
    }
   ],
   "source": [
    "print(\"'colors' =\",set(np.array(img).flatten()))"
   ]
  },
  {
   "cell_type": "markdown",
   "metadata": {},
   "source": [
    "And again, a filled version:"
   ]
  },
  {
   "cell_type": "code",
   "execution_count": null,
   "metadata": {},
   "outputs": [
    {
     "name": "stdout",
     "output_type": "stream",
     "text": [
      "'colors' = {0, 100}\n"
     ]
    },
    {
     "data": {
      "text/plain": [
       "<matplotlib.image.AxesImage at 0x7f22c87884c0>"
      ]
     },
     "execution_count": null,
     "metadata": {},
     "output_type": "execute_result"
    },
    {
     "data": {
      "image/png": "[encoded data removed]",
      "text/plain": [
       "<Figure size 432x288 with 1 Axes>"
      ]
     },
     "metadata": {
      "needs_background": "light"
     },
     "output_type": "display_data"
    }
   ],
   "source": [
    "img = draw_ellipse(img, (cx,cy), (a,b), angle, color=100, filled=True)\n",
    "print(\"'colors' =\",set(np.array(img).flatten()))\n",
    "plt.imshow(img)"
   ]
  },
  {
   "cell_type": "code",
   "execution_count": null,
   "metadata": {},
   "outputs": [],
   "source": [
    "#export \n",
    "def ellipse_to_bbox(\n",
    "    cx:float, # x-coordinate of center of ellipse\n",
    "    cy:float, # y-coordinate of center of ellipse\n",
    "    a:float,  # semimajor axis\n",
    "    b:float,  # semiminor axis\n",
    "    angle_deg:float,  # orientation angle in degrees\n",
    "    coco=False, # COCO style bbox has last 2 nums as width & height of bbox\n",
    "    width=512, height=384, # image dimensions for clipping\n",
    "    clip=True, # clip values at max values of image width & height\n",
    "    nozero=True,  # Lots of downstream apps hate zero-dimension bounding box. This returns None\n",
    "    ):\n",
    "    \"converts ellipse to bounding box\"\n",
    "    rad = np.radians(angle_deg)\n",
    "    a2, b2, cos2, sin2 = [x**2 for x in [a, b, np.cos(rad), np.sin(rad)]]\n",
    "    delta_x, delta_y = np.sqrt(a2*cos2 + b2*sin2), np.sqrt(a2*sin2 + b2*cos2)\n",
    "    xmin, xmax = cx - delta_x,  cx + delta_x \n",
    "    ymin, ymax = cy - delta_y,  cy + delta_y\n",
    "    if (xmin > xmax): xmin, xmax = xmax, xmin  # error correction, swap\n",
    "    if (ymin > ymax): ymin, ymax = ymax, ymin  # swap\n",
    "    if clip:\n",
    "        xmin, xmax = np.clip(xmin, 0, width),  np.clip(xmax, 0, width)\n",
    "        ymin, ymax = np.clip(ymin, 0, height), np.clip(ymax, 0, height)\n",
    "    if coco: return [round(x, 2) for x in [xmin, ymin, xmax-xmin, ymax-ymin]] # coco is a list, floats are ok\n",
    "    bbox = int(xmin), int(ymin), int(xmax), int(ymax)\n",
    "    # Image.crop does not like zero-size dimensions but its error message is cryptic\n",
    "    if ((xmax-xmin > 0) and (ymax-ymin > 0)) or (not nozero): return bbox\n",
    "    else: \n",
    "        print(f\"ellipse_to_bbox: Error: zero-dim bbox = {bbox}. Returning None.\")\n",
    "        return None"
   ]
  },
  {
   "cell_type": "code",
   "execution_count": null,
   "metadata": {},
   "outputs": [
    {
     "name": "stdout",
     "output_type": "stream",
     "text": [
      "bbox =  (80, 136, 233, 289)\n",
      "'colors' = {0, 50, 100}\n"
     ]
    },
    {
     "data": {
      "text/plain": [
       "<matplotlib.image.AxesImage at 0x7f22c870a220>"
      ]
     },
     "execution_count": null,
     "metadata": {},
     "output_type": "execute_result"
    },
    {
     "data": {
      "image/png": "[encoded data removed]",
      "text/plain": [
       "<Figure size 432x288 with 1 Axes>"
      ]
     },
     "metadata": {
      "needs_background": "light"
     },
     "output_type": "display_data"
    }
   ],
   "source": [
    "bb = ellipse_to_bbox(cx, cy, a, b, angle)\n",
    "print(\"bbox = \",bb)\n",
    "img = cv2.rectangle(img, bb[0:2], bb[2:4], color=50, thickness=2)\n",
    "print(\"'colors' =\",set(np.array(img).flatten()))\n",
    "plt.imshow(img)"
   ]
  },
  {
   "cell_type": "code",
   "execution_count": null,
   "metadata": {},
   "outputs": [
    {
     "data": {
      "text/plain": [
       "[80.47, 136.47, 153.06, 153.06]"
      ]
     },
     "execution_count": null,
     "metadata": {},
     "output_type": "execute_result"
    }
   ],
   "source": [
    "ellipse_to_bbox(cx, cy, a, b, angle, coco=True)"
   ]
  },
  {
   "cell_type": "code",
   "execution_count": null,
   "metadata": {},
   "outputs": [
    {
     "name": "stdout",
     "output_type": "stream",
     "text": [
      "ellipse_to_bbox: Error: zero-dim bbox = (0, 0, 0, 0). Returning None.\n"
     ]
    }
   ],
   "source": [
    "ellipse_to_bbox(0, 0, 0, 0, 0)  # check for (graceful handling of) errors"
   ]
  },
  {
   "cell_type": "code",
   "execution_count": null,
   "metadata": {},
   "outputs": [],
   "source": [
    "#export \n",
    "def ring_float_to_class_int(rings:float, step=0.1):\n",
    "    \"\"\"Ring value rounded to classifier value; rounded to nearest step size\"\"\"\n",
    "    return round(rings/step)"
   ]
  },
  {
   "cell_type": "code",
   "execution_count": null,
   "metadata": {},
   "outputs": [
    {
     "data": {
      "text/plain": [
       "(105, 52, 10)"
      ]
     },
     "execution_count": null,
     "metadata": {},
     "output_type": "execute_result"
    }
   ],
   "source": [
    "ring_float_to_class_int(10.5, 0.1), ring_float_to_class_int(10.5, 0.2), ring_float_to_class_int(10.5, 1)"
   ]
  },
  {
   "cell_type": "code",
   "execution_count": null,
   "metadata": {},
   "outputs": [],
   "source": [
    "#export \n",
    "def crop_to_bbox(\n",
    "    img,        # an image (PIL preferred, but will convert from cv2 if neede)\n",
    "    bbox,       # [xmin, ymin, d3, d4] where d3,d4 are either xmax,ymax (default) or see coco (below)\n",
    "    coco=False, # COCO style input bbox has last 2 nums as width & height of bbox\n",
    "    width=512, height=384, # image dimensions for clipping\n",
    "    clip=True,  # clip values at max values of image width & height\n",
    "    ):\n",
    "    \"Crops an image to bbox, returns cropped image\"\n",
    "    if isinstance(img,np.ndarray): img = Image.fromarray(img)  # convert cv2 image to PIL\n",
    "    xmin, ymin = bbox[0], bbox[1]\n",
    "    if coco: xmax, ymax = bbox[0]+bbox[2], bbox[1]+bbox[3]\n",
    "    else:    xmax, ymax = bbox[2], bbox[3]\n",
    "    if clip:\n",
    "        xmin, xmax = np.clip(xmin, 0, width),  np.clip(xmax, 0, width)\n",
    "        ymin, ymax = np.clip(ymin, 0, height), np.clip(ymax, 0, height)\n",
    "    # check ordering \n",
    "    if (xmin > xmax): xmin, xmax = xmax, xmin  # error correction, swap\n",
    "    if (ymin > ymax): ymin, ymax = ymax, ymin  # swap\n",
    "    crop_bb = (int(xmin), int(ymin), int(xmax), int(ymax))\n",
    "    \n",
    "    # Image.crop does not like zero-size dimensions but its error message is cryptic\n",
    "    if (xmax-xmin > 0) and (ymax-ymin > 0): return img.crop(crop_bb)\n",
    "    else: \n",
    "        print(f\"crop_to_bbox: Error: zero-dim crop request, crop_bb = {crop_bb}. Returning None.\")\n",
    "        return None"
   ]
  },
  {
   "cell_type": "code",
   "execution_count": null,
   "metadata": {},
   "outputs": [
    {
     "data": {
      "text/plain": [
       "<matplotlib.image.AxesImage at 0x7f22c86ee760>"
      ]
     },
     "execution_count": null,
     "metadata": {},
     "output_type": "execute_result"
    },
    {
     "data": {
      "image/png": "[encoded data removed]",
      "text/plain": [
       "<Figure size 432x288 with 1 Axes>"
      ]
     },
     "metadata": {
      "needs_background": "light"
     },
     "output_type": "display_data"
    }
   ],
   "source": [
    "from matplotlib.pyplot import imshow\n",
    "\n",
    "imshow(crop_to_bbox(img, bb))"
   ]
  },
  {
   "cell_type": "code",
   "execution_count": null,
   "metadata": {},
   "outputs": [
    {
     "name": "stdout",
     "output_type": "stream",
     "text": [
      "crop_to_bbox: Error: zero-dim crop request, crop_bb = (0, 0, 0, 10). Returning None.\n"
     ]
    }
   ],
   "source": [
    "bb_bad = crop_to_bbox(img, [-100,-100,-10,10])"
   ]
  },
  {
   "cell_type": "markdown",
   "metadata": {},
   "source": [
    "## \"Regression accuracy\" metric(s)"
   ]
  },
  {
   "cell_type": "code",
   "execution_count": null,
   "metadata": {},
   "outputs": [],
   "source": [
    "#export\n",
    "def acc_reg(inp, targ, bin_size=1): \n",
    "    \"Accuracy for regression: Are we within +/- bin_size?\"\n",
    "    inp,targ = flatten_check(inp,targ) # https://docs.fast.ai/metrics.html#flatten_check\n",
    "    where_correct = (inp-targ).abs() < bin_size\n",
    "    return where_correct.float().mean() "
   ]
  },
  {
   "cell_type": "markdown",
   "metadata": {},
   "source": [
    "Let's test this metric:"
   ]
  },
  {
   "cell_type": "code",
   "execution_count": null,
   "metadata": {},
   "outputs": [
    {
     "name": "stdout",
     "output_type": "stream",
     "text": [
      "tensor([0.7457, 0.7263, 0.3642, 0.8471, 0.4808, 0.5804, 0.6998, 0.9799, 0.4964,\n",
      "        0.2416])\n",
      "tensor([0.9151, 1.2286, 0.4012, 1.5131, 0.6677, 1.0552, 1.1226, 1.0571, 1.1422,\n",
      "        0.6349])\n",
      "tensor([True, True, True, True, True, True, True, True, True, True])\n",
      "TensorBase(1.)\n"
     ]
    }
   ],
   "source": [
    "#let's test this metric\n",
    "a = torch.rand(10)\n",
    "b = a + torch.rand(10)\n",
    "print(a)\n",
    "print(b)\n",
    "tol = 0.7\n",
    "print( (a - b).abs() < tol)\n",
    "print(acc_reg(a,b,bin_size=tol))"
   ]
  },
  {
   "cell_type": "markdown",
   "metadata": {},
   "source": [
    "We'll use a few predefined intervals:"
   ]
  },
  {
   "cell_type": "code",
   "execution_count": null,
   "metadata": {},
   "outputs": [],
   "source": [
    "#export\n",
    "def acc_reg05(inp, targ): return acc_reg(inp, targ, bin_size=0.5)"
   ]
  },
  {
   "cell_type": "code",
   "execution_count": null,
   "metadata": {},
   "outputs": [],
   "source": [
    "#export\n",
    "def acc_reg1(inp, targ): return acc_reg(inp, targ, bin_size=1)"
   ]
  },
  {
   "cell_type": "code",
   "execution_count": null,
   "metadata": {},
   "outputs": [],
   "source": [
    "#export\n",
    "def acc_reg15(inp, targ): return acc_reg(inp, targ, bin_size=1.5)"
   ]
  },
  {
   "cell_type": "code",
   "execution_count": null,
   "metadata": {},
   "outputs": [],
   "source": [
    "#export\n",
    "def acc_reg2(inp, targ): return acc_reg(inp, targ, bin_size=2)"
   ]
  },
  {
   "cell_type": "markdown",
   "metadata": {},
   "source": [
    "## Workflow utils"
   ]
  },
  {
   "cell_type": "code",
   "execution_count": null,
   "metadata": {},
   "outputs": [],
   "source": [
    "#export\n",
    "def kfold_split(\n",
    "    data,         # list of indices or data points to split into train & val\n",
    "    k,            # where we are in the iteration\n",
    "    nk = 5         # number of folds\n",
    "    ):\n",
    "    \"Breaks one list into train & val as per k-fold cross-validation. For use with fastai IndexSplitter (throw out train_list) or IceVision's FixedSplitter\"\n",
    "    n = len(data)\n",
    "    val_size = int(round(n/nk))\n",
    "    if k < nk-1: \n",
    "        val_list = data[k*val_size:(k+1)*val_size]\n",
    "        train_list = data[0:k*val_size] + data[(k+1)*val_size:n]\n",
    "    else:   # last one might be a bit different\n",
    "        val_list = data[k*val_size:]\n",
    "        train_list = data[0:-len(val_list)]\n",
    "    return train_list, val_list "
   ]
  },
  {
   "cell_type": "code",
   "execution_count": null,
   "metadata": {},
   "outputs": [
    {
     "name": "stdout",
     "output_type": "stream",
     "text": [
      "([2, 3, 4, 5, 6, 7, 8, 9], [0, 1])\n",
      "([0, 1, 4, 5, 6, 7, 8, 9], [2, 3])\n",
      "([0, 1, 2, 3, 6, 7, 8, 9], [4, 5])\n",
      "([0, 1, 2, 3, 4, 5, 8, 9], [6, 7])\n",
      "([0, 1, 2, 3, 4, 5, 6, 7], [8, 9])\n"
     ]
    }
   ],
   "source": [
    "data = list(range(10))\n",
    "nk = 5\n",
    "for k in range(nk):\n",
    "    print(kfold_split(data, k))"
   ]
  },
  {
   "cell_type": "code",
   "execution_count": null,
   "metadata": {},
   "outputs": [],
   "source": []
  }
 ],
 "metadata": {
  "kernelspec": {
   "display_name": "Python 3",
   "language": "python",
   "name": "python3"
  }
 },
 "nbformat": 4,
 "nbformat_minor": 2
}
