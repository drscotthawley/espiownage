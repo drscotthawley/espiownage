{
 "cells": [
  {
   "cell_type": "code",
   "execution_count": null,
   "metadata": {},
   "outputs": [],
   "source": [
    "#hide\n",
    "#from nbdev.showdoc import *\n",
    "from nbverbose.showdoc import *"
   ]
  },
  {
   "cell_type": "markdown",
   "metadata": {},
   "source": [
    "# espiownage"
   ]
  },
  {
   "cell_type": "markdown",
   "metadata": {},
   "source": [
    "> Ownage (domination) of ESPI image inference. (Pronounced like \"espionage\" but with a little \"own\" in the middle.)\n",
    "\n",
    "Welcome to the new phase of [SPNet](https://github.com/drscotthawley/SPNet) developement -- IN PROGRESS.  \n",
    "\n",
    "In this incarnation, we'll be making it an image-segmentation code instead of an object detector, and we'll use [fast.ai](fast.ai).   "
   ]
  },
  {
   "cell_type": "markdown",
   "metadata": {},
   "source": [
    "## Install"
   ]
  },
  {
   "cell_type": "markdown",
   "metadata": {},
   "source": [
    "### Preliminaries\n",
    "\n",
    "Ubuntu (& probably other Linuxes):\n",
    "```bash\n",
    "sudo apt-get install python3-tk\n",
    "```\n",
    "\n",
    "Mac (with [Homebrew](https://brew.sh/))\n",
    "```bash\n",
    "brew install python-tk\n",
    "```\n",
    "\n",
    "Then on all systems, let's set up a virtual environment called `espi`. \n",
    "I like to put my environments in `~/envs`:\n",
    "\n",
    "```\n",
    "mkdir ~/envs; python3 -m venv ~/envs/espi; source ~/envs/espi/bin/activate\n",
    "```\n",
    "And then you want/need to update `pip` in case it gave you an ancient version:\n",
    "\n",
    "```bash\n",
    "python3 -m pip install pip --upgrade\n",
    "```"
   ]
  },
  {
   "cell_type": "markdown",
   "metadata": {},
   "source": [
    "### Pip install\n",
    "\n",
    "```bash\n",
    "pip install espiownage\n",
    "```\n",
    "Note: the requirements on this package follow a \"kitchen sink\" approach so that everything a student might need gets installed, e.g. `jupyter` and more. (And `wheel` because it speeds up the installations...I think.)"
   ]
  },
  {
   "cell_type": "markdown",
   "metadata": {},
   "source": [
    "## How to use"
   ]
  },
  {
   "cell_type": "markdown",
   "metadata": {},
   "source": [
    "If you're reading this, you probably have access to the \"real\" data, which sits (on my machine) in `~/Dropbox/Data/espiownage-data`.  So `cd` to that directory, i.e.,\n",
    "```\n",
    "$ cd ~/Dropbox/Data/espiownage-data\n",
    "```\n",
    "...(or whereever you've got it) for what follows. \n",
    "\n",
    "**AND THEN**, so we don't \"clobber\" each other's work, make *your own copy* (~17MB) of the main `annotations` directory, as in append your last name (hawley, morrison, morgan, etc):\n",
    "\n",
    "```bash\n",
    "cp -r annotations annotations_yourlastname\n",
    "```\n",
    "and then we'll each edit our own copy just to avoid...confusion. \n",
    "\n",
    "> *Note: If you don't have access to the real data,* you can still grab the [fake SPNet data](https://zenodo.org/record/4445434) and then, for each of those datasets: Move (or symlink) all the images to a directory called `images/`, and all the `.csv` files to a directory called `annotations/`, and proceed."
   ]
  },
  {
   "cell_type": "markdown",
   "metadata": {},
   "source": [
    "## Console Scripts\n",
    "See the separate page on console scripts"
   ]
  },
  {
   "cell_type": "markdown",
   "metadata": {},
   "source": [
    "## Contributing / Development \n",
    "\n",
    "You'll want to install more things:\n",
    "\n",
    "```bash\n",
    "pip install nbdev twine \n",
    "```\n",
    "\n",
    "Fork this repo.  When you want to update your repo, one macro does it all (see `Makefile`):\n",
    "```bash\n",
    "make git_update\n",
    "```"
   ]
  },
  {
   "cell_type": "markdown",
   "metadata": {},
   "source": [
    "## Asides\n",
    "\n",
    "### Handy tips for students\n",
    "I can never remember how to start up virtual environments / or I don't *want* to remember. So in my `~/.bashrc` file (you may have a `~/.zshrc`) I put in a line where I define an alias/function I call `gimme`, that reads like so:\n",
    "```bash\n",
    "gimme() { source ~/envs/\"$1\"/bin/activate;  }\n",
    "```\n",
    "(note that in order for this alias to be recognized, you need to either logout and log back in or else run `$ source ~/.bashrc`)\n",
    "\n",
    "Then when I want to load environment like `espi` I just type...\n",
    "```bash\n",
    "gimme espi\n",
    "```\n"
   ]
  },
  {
   "cell_type": "markdown",
   "metadata": {},
   "source": [
    "--Scott H. Hawley, September 2021"
   ]
  },
  {
   "cell_type": "code",
   "execution_count": null,
   "metadata": {},
   "outputs": [],
   "source": []
  }
 ],
 "metadata": {
  "kernelspec": {
   "display_name": "Python 3 (ipykernel)",
   "language": "python",
   "name": "python3"
  }
 },
 "nbformat": 4,
 "nbformat_minor": 2
}
