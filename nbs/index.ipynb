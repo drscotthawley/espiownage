{
 "cells": [
  {
   "cell_type": "code",
   "execution_count": null,
   "metadata": {},
   "outputs": [],
   "source": [
    "#hide\n",
    "#from nbdev.showdoc import *\n",
    "from nbverbose.showdoc import *"
   ]
  },
  {
   "cell_type": "markdown",
   "metadata": {},
   "source": [
    "# espiownage"
   ]
  },
  {
   "cell_type": "markdown",
   "metadata": {},
   "source": [
    "> Ownage of ESPI image inference. (Pronounced like \"espionage\" but with a little \"own\" in the middle.) \n",
    "\n",
    "This code repository accompanies the paper submission [**\"espiownage: Tracking Transients in Drum Strikes Using Surveillance Technology\"**](https://www.dropbox.com/s/30nqyl0srekmu0s/steelpan_neurips_2021.pdf?dl=0) for the [NeurIPS 2021](https://nips.cc/Conferences/2021/) workshop on [Machine Learning and the Physical Sciences.](https://ml4physicalsciences.github.io/2021/) \n",
    "\n",
    "\n",
    "<div align=\"center\">\n",
    "<img src=\"images/ellipse_editor_screenshot.png\" width=\"40%\" style=\"display:inline; vertical-align: bottom\">\n",
    "<div style=\"display:inline;width:10px;\"></div>\n",
    "<img src=\"images/infer_others.png\" width=\"36%\" style=\"display:inline; vertical-align: bottom\">\n",
    "</div>\n",
    "\n",
    "\n",
    "This study consists of 3 models:  Two that go together (a bounding box detector that feeds cropped images into an antinode ring-counter) and another complements them (an image sementation code we use for regression by scaling the final activation of a \"one-class\" model.)\n",
    "\n",
    "\n",
    "All this documentation is fully executable, either locally or on Colab. This is made possible by [nbdev](nbdev.fast.ai), the development system that enabled us to stay organized and do this project in only 18 days! \n",
    "\n",
    "\n",
    "These pages and [the GitHub repo they are generated from](https://github.com/drscotthawley/espiownage) are fully anonymized as are all the links that are used, so they're \"safe\" for reviewers to explore.  *Note that there is a \"real\" espiownage repo and PyPi entry (which is where the pip-installs used in these notebooks will pull from for setup/speed purposes) so don't go searching for that.*  Pending successful review of the paper, this repository will be redirected to the non-anonymous version."
   ]
  },
  {
   "cell_type": "markdown",
   "metadata": {},
   "source": [
    "## Install"
   ]
  },
  {
   "cell_type": "markdown",
   "metadata": {},
   "source": [
    "### Preliminaries\n",
    "\n",
    "Ubuntu (& probably other Linuxes):\n",
    "```bash\n",
    "sudo apt-get install python3-tk\n",
    "```\n",
    "\n",
    "Mac (with [Homebrew](https://brew.sh/))\n",
    "```bash\n",
    "brew install python-tk\n",
    "```\n",
    "\n",
    "Then on all systems, let's set up a virtual environment called `espi`. \n",
    "I like to put my environments in `~/envs`:\n",
    "\n",
    "```\n",
    "mkdir ~/envs; python3 -m venv ~/envs/espi; source ~/envs/espi/bin/activate\n",
    "```\n",
    "And then you want/need to update `pip` in case it gave you an ancient version:\n",
    "\n",
    "```bash\n",
    "python3 -m pip install pip --upgrade\n",
    "```"
   ]
  },
  {
   "cell_type": "markdown",
   "metadata": {},
   "source": [
    "### Pip install\n",
    "\n",
    "```bash\n",
    "pip install espiownage\n",
    "```\n",
    "Note: the requirements on this package follow a \"kitchen sink\" approach so that everything a shawley might need gets installed, e.g. `jupyter` and more. (And `wheel` because it speeds up the installations...I think.)"
   ]
  },
  {
   "cell_type": "markdown",
   "metadata": {},
   "source": [
    "## How to use"
   ]
  },
  {
   "cell_type": "markdown",
   "metadata": {},
   "source": [
    "Take a look at the tabs in the sidebar, which arranged in sections according the tasks of detecting antinodes in steelpan drum oscillations, counting the interference friges, and reporting tracking information so that scientists can better understand the rapid transient dynamics of these instruments -- it is the transients that give the instrument its distinctive sound! "
   ]
  },
  {
   "cell_type": "markdown",
   "metadata": {},
   "source": [
    "## Console Scripts\n",
    "See the separate page on console scripts"
   ]
  },
  {
   "cell_type": "markdown",
   "metadata": {},
   "source": [
    "## Contributing / Development \n",
    "\n",
    "You'll want to install more things:\n",
    "\n",
    "```bash\n",
    "pip install nbdev twine \n",
    "```\n",
    "\n",
    "Fork this repo.  When you want to update your repo, one macro does it all (see `Makefile`):\n",
    "```bash\n",
    "make git_update\n",
    "```"
   ]
  },
  {
   "cell_type": "code",
   "execution_count": null,
   "metadata": {},
   "outputs": [],
   "source": []
  }
 ],
 "metadata": {
  "kernelspec": {
   "display_name": "Python 3 (ipykernel)",
   "language": "python",
   "name": "python3"
  }
 },
 "nbformat": 4,
 "nbformat_minor": 2
}
