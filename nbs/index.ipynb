{
 "cells": [
  {
   "cell_type": "code",
   "execution_count": null,
   "metadata": {},
   "outputs": [],
   "source": [
    "#hide\n",
    "from espiownage.core import *"
   ]
  },
  {
   "cell_type": "markdown",
   "metadata": {},
   "source": [
    "# espiownage"
   ]
  },
  {
   "cell_type": "markdown",
   "metadata": {},
   "source": [
    "> Ownage (domination) of ESPI image inference. (Pronounced like \"espionage\" but with a little \"own\" in the middle.)\n",
    "\n",
    "Welcome to the new phase of [SPNet](https://github.com/drscotthawley/SPNet) developement -- IN PROGRESS.  \n",
    "\n",
    "In this incarnation, we'll be making it an image-segmentation code instead of an object detector, and we'll use [fast.ai](fast.ai).   "
   ]
  },
  {
   "cell_type": "code",
   "execution_count": null,
   "metadata": {},
   "outputs": [],
   "source": [
    "#hide\n",
    "#from nbdev.showdoc import *\n",
    "from nbverbose.showdoc import *"
   ]
  },
  {
   "cell_type": "markdown",
   "metadata": {},
   "source": [
    "## Install"
   ]
  },
  {
   "cell_type": "markdown",
   "metadata": {},
   "source": [
    "### Preliminaries\n",
    "\n",
    "Ubuntu (& probably other Linuxes):\n",
    "```bash\n",
    "sudo apt-get install python3-tk\n",
    "```\n",
    "\n",
    "Mac (with [Homebrew](https://brew.sh/))\n",
    "```bash\n",
    "brew install python-tk\n",
    "```\n",
    "\n",
    "Then on all systems, let's set up a virtual environment called `espi`. \n",
    "I like to put my environments in `~/envs`:\n",
    "\n",
    "```\n",
    "mkdir ~/envs; python3 -m venv ~/envs/espi; source ~/envs/espi/bin/activate\n",
    "```\n",
    "And then you want/need to update `pip` in case it gave you an ancient version:\n",
    "\n",
    "```bash\n",
    "python3 -m pip install pip --upgrade\n",
    "```"
   ]
  },
  {
   "cell_type": "markdown",
   "metadata": {},
   "source": [
    "### Pip install\n",
    "\n",
    "```bash\n",
    "pip install espiownage\n",
    "```\n",
    "Note: the requirements on this package follow a \"kitchen sink\" approach so that everything a student might need gets installed, e.g. `jupyter` and more. (And `wheel` because it speeds up the installations...I think.)"
   ]
  },
  {
   "cell_type": "markdown",
   "metadata": {},
   "source": [
    "## How to use"
   ]
  },
  {
   "cell_type": "markdown",
   "metadata": {},
   "source": [
    "If you're reading this, you probably have access to the \"real\" data, which sits (on my machine) in `~/Dropbox/Data/espiownage-data`.  So `cd` to that directory, i.e.,\n",
    "```\n",
    "$ cd ~/Dropbox/Data/espiownage-data\n",
    "```\n",
    "...(or whereever you've got it) for what follows. \n",
    "\n",
    "**AND THEN**, so we don't \"clobber\" each other's work, make *your own copy* (~17MB) of the main `annotations` directory, as in append your last name (hawley, morrison, morgan, etc):\n",
    "\n",
    "```bash\n",
    "cp -r annotations annotations_yourlastname\n",
    "```\n",
    "and then we'll each edit our own copy just to avoid...confusion. \n",
    "\n",
    "> *Note: If you don't have access to the real data,* you can still grab the [fake SPNet data](https://zenodo.org/record/4445434) and then, for each of those datasets: Move (or symlink) all the images to a directory called `images/`, and all the `.csv` files to a directory called `annotations/`, and proceed.\n",
    "\n",
    "\n",
    "## Console Scripts:\n",
    "\n",
    "### ellipse editor"
   ]
  },
  {
   "cell_type": "code",
   "execution_count": null,
   "metadata": {},
   "outputs": [
    {
     "name": "stdout",
     "output_type": "stream",
     "text": [
      "usage: ellipse_editor [-h] [--files FILES] [--imgbank IMGBANK]\r\n",
      "\r\n",
      "optional arguments:\r\n",
      "  -h, --help         show this help message and exit\r\n",
      "  --files FILES      Wildcard name for all CSV files to edit (default:\r\n",
      "                     annotations/*.csv)\r\n",
      "  --imgbank IMGBANK  Directory where all the (unlabeled) images are (default:\r\n",
      "                     images/)\r\n"
     ]
    }
   ],
   "source": [
    "!ellipse_editor -h"
   ]
  },
  {
   "cell_type": "markdown",
   "metadata": {},
   "source": [
    "**Examples:**\n",
    "```bash\n",
    "ellipse_editor --files=annotations_yourlastname/*.csv\n",
    "```\n",
    "\n",
    "See `ellipse_editor -h` for command-line options.   You can, for example, edit only one strike's worth of data by running\n",
    "\n",
    "```bash\n",
    "ellipse_editor --files=annotations_yourlastname/06241902*.csv\n",
    "```\n",
    "or a range of annotations, as in `ellipse editor --files=annotations_yourlastname/06241902_proc_001*.csv`\n",
    "\n",
    "### generate segmentation masks"
   ]
  },
  {
   "cell_type": "code",
   "execution_count": null,
   "metadata": {},
   "outputs": [
    {
     "name": "stdout",
     "output_type": "stream",
     "text": [
      "usage: gen_masks [-h] [--allone] [--cp_ann_imgs] [--files FILES]\r\n",
      "                 [--maskdir MASKDIR] [--step STEP]\r\n",
      "\r\n",
      "Generate segmentation masks for all annotations\r\n",
      "\r\n",
      "optional arguments:\r\n",
      "  -h, --help         show this help message and exit\r\n",
      "  --allone           All objects get assigned to class 1 (default: False)\r\n",
      "  --cp_ann_imgs      make directory of only images for which annotations exist\r\n",
      "                     (to annotated_images/) (default: False)\r\n",
      "  --files FILES      Wildcard name for all CSV files to edit (default:\r\n",
      "                     annotations/*.csv)\r\n",
      "  --maskdir MASKDIR  Directory to write segmentation masks to (default: masks/)\r\n",
      "  --step STEP        Step size / resolution / precision of ring count (default:\r\n",
      "                     1)\r\n"
     ]
    }
   ],
   "source": [
    "!gen_masks -h"
   ]
  },
  {
   "cell_type": "markdown",
   "metadata": {},
   "source": [
    "### generate bounding boxes"
   ]
  },
  {
   "cell_type": "code",
   "execution_count": null,
   "metadata": {},
   "outputs": [
    {
     "name": "stdout",
     "output_type": "stream",
     "text": [
      "usage: gen_bboxes [-h] [--reg] [--files FILES] [--bboxdir BBOXDIR] [--step STEP]\r\n",
      "\r\n",
      "optional arguments:\r\n",
      "  -h, --help         show this help message and exit\r\n",
      "  --reg              Set this for regression model (1 class, no steps) (default:\r\n",
      "                     False)\r\n",
      "  --files FILES      Wildcard name for all (ellipse) CSV files to read (default:\r\n",
      "                     annotations/*.csv)\r\n",
      "  --bboxdir BBOXDIR  Directory to write bboxes to (default: bboxes)\r\n",
      "  --step STEP        For classification model: Step size / resolution /\r\n",
      "                     precision of ring count (default: 0.5)\r\n"
     ]
    }
   ],
   "source": [
    "!gen_bboxes -h"
   ]
  },
  {
   "cell_type": "markdown",
   "metadata": {},
   "source": [
    "### generate cropped images of antinodes"
   ]
  },
  {
   "cell_type": "code",
   "execution_count": null,
   "metadata": {},
   "outputs": [
    {
     "name": "stdout",
     "output_type": "stream",
     "text": [
      "usage: gen_crops [-h] [--files FILES] [--outdir OUTDIR]\r\n",
      "\r\n",
      "Generate cropped images for all annotations\r\n",
      "\r\n",
      "optional arguments:\r\n",
      "  -h, --help       show this help message and exit\r\n",
      "  --files FILES    Wildcard name for all CSV files to edit (default:\r\n",
      "                   annotations/*.csv)\r\n",
      "  --outdir OUTDIR  Directory to write output cropped images to (default: crops/)\r\n"
     ]
    }
   ],
   "source": [
    "!gen_crops -h"
   ]
  },
  {
   "cell_type": "markdown",
   "metadata": {},
   "source": [
    "### generate most recent(ly edited) annotations"
   ]
  },
  {
   "cell_type": "code",
   "execution_count": null,
   "metadata": {},
   "outputs": [
    {
     "name": "stdout",
     "output_type": "stream",
     "text": [
      "usage: grab_recent [-h] [--dirs DIRS] [--dest DEST]\r\n",
      "\r\n",
      "optional arguments:\r\n",
      "  -h, --help   show this help message and exit\r\n",
      "  --dirs DIRS  annotation directories check (default: annotations*)\r\n",
      "  --dest DEST  Directory to write new annotations to (default:\r\n",
      "               recent_annotations)\r\n"
     ]
    }
   ],
   "source": [
    "!grab_recent -h"
   ]
  },
  {
   "cell_type": "markdown",
   "metadata": {},
   "source": [
    "### generate fake data"
   ]
  },
  {
   "cell_type": "code",
   "execution_count": null,
   "metadata": {},
   "outputs": [
    {
     "name": "stdout",
     "output_type": "stream",
     "text": [
      "usage: gen_fake [-h] [--n N] [--outdir OUTDIR]\r\n",
      "\r\n",
      "Generates fake ESPI-like images\r\n",
      "\r\n",
      "optional arguments:\r\n",
      "  -h, --help       show this help message and exit\r\n",
      "  --n N            Number of images to generate (default: 2000)\r\n",
      "  --outdir OUTDIR  Directory to write to (default: espiownage-fake)\r\n"
     ]
    }
   ],
   "source": [
    "!gen_fake -h"
   ]
  },
  {
   "cell_type": "markdown",
   "metadata": {},
   "source": [
    "## Contributing / Development \n",
    "\n",
    "You'll want to install more things:\n",
    "\n",
    "```bash\n",
    "pip install nbdev twine \n",
    "```\n",
    "\n",
    "Fork this repo.  When you want to update your repo, one macro does it all (see `Makefile`):\n",
    "```bash\n",
    "make git_update\n",
    "```"
   ]
  },
  {
   "cell_type": "markdown",
   "metadata": {},
   "source": [
    "## Asides\n",
    "\n",
    "### Handy tips for students\n",
    "I can never remember how to start up virtual environments / or I don't *want* to remember. So in my `~/.bashrc` file (you may have a `~/.zshrc`) I put in a line where I define an alias/function I call `gimme`, that reads like so:\n",
    "```bash\n",
    "gimme() { source ~/envs/\"$1\"/bin/activate;  }\n",
    "```\n",
    "(note that in order for this alias to be recognized, you need to either logout and log back in or else run `$ source ~/.bashrc`)\n",
    "\n",
    "Then when I want to load environment like `espi` I just type...\n",
    "```bash\n",
    "gimme espi\n",
    "```\n"
   ]
  },
  {
   "cell_type": "markdown",
   "metadata": {},
   "source": [
    "--Scott H. Hawley, September 2021"
   ]
  },
  {
   "cell_type": "code",
   "execution_count": null,
   "metadata": {},
   "outputs": [],
   "source": []
  }
 ],
 "metadata": {
  "kernelspec": {
   "display_name": "Python 3 (ipykernel)",
   "language": "python",
   "name": "python3"
  }
 },
 "nbformat": 4,
 "nbformat_minor": 2
}
