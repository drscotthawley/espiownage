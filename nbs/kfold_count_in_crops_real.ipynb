{
 "cells": [
  {
   "cell_type": "markdown",
   "metadata": {},
   "source": [
    "# Counting Rings in Cropped Images - Real Data"
   ]
  },
  {
   "cell_type": "markdown",
   "metadata": {},
   "source": [
    "\n",
    "Mod of [Zach Muller's WWF 01_Custom.ipynb](https://walkwithfastai.com/Custom).\n",
    "\n",
    "Here we'll take cropped images of antinodes and try to count the rings.\n",
    "\n",
    "> Note: This is just a stripped-down, streamlined version of the longer [Counting Rings in Cropped Images](count_in_crops_real.html) notebook, with a k-fold cross-validation added in. See that other notebook for a better explanation of what we're doing. \n",
    "\n",
    "> Note: The WandB links will 404, because there is no \"maskedstudent\" WandB account. We just used `sed` to replace the real username in the .ipynb files. "
   ]
  },
  {
   "cell_type": "code",
   "execution_count": null,
   "metadata": {},
   "outputs": [],
   "source": [
    "#all_slow"
   ]
  },
  {
   "cell_type": "code",
   "execution_count": null,
   "metadata": {},
   "outputs": [
    {
     "name": "stdout",
     "output_type": "stream",
     "text": [
      "\u001b[33mWARNING: You are using pip version 21.0.1; however, version 21.2.4 is available.\r\n",
      "You should consider upgrading via the '/usr/bin/python3.8 -m pip install --upgrade pip' command.\u001b[0m\r\n"
     ]
    }
   ],
   "source": [
    "#hide\n",
    "#Run once per session\n",
    "!pip install fastai espiownage mrspuff typing_extensions -q --upgrade"
   ]
  },
  {
   "cell_type": "code",
   "execution_count": null,
   "metadata": {},
   "outputs": [
    {
     "name": "stdout",
     "output_type": "stream",
     "text": [
      "TORCH_VERSION=torch1.9.0; CUDA_VERSION=cu111\n",
      "CUDA available = True, Device count = 1, Current device = 0\n",
      "Device name = GeForce RTX 3080\n",
      "hostname: bengio\n",
      "espiownage version 0.0.41\n"
     ]
    }
   ],
   "source": [
    "import espiownage\n",
    "from espiownage.core import *\n",
    "sysinfo()\n",
    "print(f\"espiownage version {espiownage.__version__}\")"
   ]
  },
  {
   "cell_type": "code",
   "execution_count": null,
   "metadata": {},
   "outputs": [],
   "source": [
    "from fastai.vision.all import *\n",
    "\n",
    "from fastcore.foundation import L\n",
    "from fastcore.xtras import Path # @patch'd properties to the Pathlib module\n",
    "\n",
    "from fastai.callback.fp16 import to_fp16\n",
    "from fastai.callback.schedule import fit_one_cycle, lr_find \n",
    "from fastai.data.external import untar_data, URLs\n",
    "\n",
    "from fastai.data.block import RegressionBlock, DataBlock\n",
    "from fastai.data.transforms import get_image_files, Normalize, RandomSplitter, parent_label\n",
    "\n",
    "from fastai.interpret import ClassificationInterpretation\n",
    "from fastai.learner import Learner # imports @patch'd properties to Learner including `save`, `load`, `freeze`, and `unfreeze`\n",
    "from fastai.optimizer import ranger\n",
    "\n",
    "from fastai.vision.augment import aug_transforms, RandomResizedCrop, Resize, ResizeMethod\n",
    "from fastai.vision.core import imagenet_stats\n",
    "from fastai.vision.data import ImageBlock\n",
    "from fastai.vision.learner import cnn_learner\n",
    "from fastai.vision.utils import download_images, verify_images\n",
    "\n",
    "from mrspuff.utils import on_colab"
   ]
  },
  {
   "cell_type": "code",
   "execution_count": null,
   "metadata": {},
   "outputs": [
    {
     "name": "stdout",
     "output_type": "stream",
     "text": [
      "/home/sstudent/datasets/espiownage-cleaner/crops\n",
      "6614 total cropped images\n",
      "1.8\n"
     ]
    }
   ],
   "source": [
    "dataset_name = 'cleaner' # choose from: cleaner(=real), preclean, spnet, cyclegan, fake\n",
    "\n",
    "path = get_data(dataset_name) / 'crops'\n",
    "\n",
    "print(path)\n",
    "\n",
    "fnames = get_image_files(path)\n",
    "print(f\"{len(fnames)} total cropped images\")\n",
    "ind = 1  # pick one cropped image\n",
    "fnames[ind]\n",
    "\n",
    "def label_func(x):  \n",
    "    return round(float(x.stem.split('_')[-1]),2)\n",
    "\n",
    "print(label_func(fnames[ind]))\n",
    "cropsize = (300,300) # pixels"
   ]
  },
  {
   "cell_type": "code",
   "execution_count": null,
   "metadata": {},
   "outputs": [
    {
     "name": "stderr",
     "output_type": "stream",
     "text": [
      "\u001b[34m\u001b[1mwandb\u001b[0m: Currently logged in as: \u001b[33mmaskedstudent\u001b[0m (use `wandb login --relogin` to force relogin)\n"
     ]
    },
    {
     "data": {
      "text/plain": [
       "True"
      ]
     },
     "execution_count": null,
     "metadata": {},
     "output_type": "execute_result"
    }
   ],
   "source": [
    "!pip install wandb -qqq\n",
    "import wandb\n",
    "from fastai.callback.wandb import *\n",
    "wandb.login()"
   ]
  },
  {
   "cell_type": "code",
   "execution_count": null,
   "metadata": {},
   "outputs": [],
   "source": [
    "# set up k-fold splitting\n",
    "kfold = True\n",
    "k = 0   # set k = 0 to 4  & re-run everything from here down\n",
    "nk = 5\n",
    "nv = int(len(fnames)/nk) # size of val set\n",
    "bgn = k*nv                   # ind to start val set\n",
    "inds = list(range(bgn, bgn+nv)) # indices for this val set\n",
    "\n",
    "croppedrings = DataBlock(blocks=(ImageBlock, RegressionBlock(n_out=1)),\n",
    "                    get_items=get_image_files,\n",
    "                    splitter=IndexSplitter(inds),\n",
    "                    get_y=label_func,\n",
    "                    item_tfms=Resize(cropsize, ResizeMethod.Squish),\n",
    "                    batch_tfms=[*aug_transforms(size=cropsize, flip_vert=True, max_rotate=360.0), \n",
    "                    Normalize.from_stats(*imagenet_stats)])\n",
    "\n",
    "dls = croppedrings.dataloaders(path, bs=32)\n",
    "\n",
    "def acc_reg07(inp, targ): return acc_reg(inp, targ, bin_size=0.7) # add one more\n",
    "\n",
    "opt = ranger\n",
    "\n",
    "y_range=(0.2,13)  # balance between \"clamping\" to range of real data vs too much \"compression\" from sigmoid nonlinearity"
   ]
  },
  {
   "cell_type": "code",
   "execution_count": null,
   "metadata": {},
   "outputs": [
    {
     "data": {
      "text/html": [
       "\n",
       "                Tracking run with wandb version 0.12.2<br/>\n",
       "                Syncing run <strong style=\"color:#cdcd00\">daily-night-9</strong> to <a href=\"https://wandb.ai\" target=\"_blank\">Weights & Biases</a> <a href=\"https://docs.wandb.com/integrations/jupyter.html\" target=\"_blank\">(Documentation)</a>.<br/>\n",
       "                Project page: <a href=\"https://wandb.ai/maskedstudent/ringcounts_kfold\" target=\"_blank\">https://wandb.ai/maskedstudent/ringcounts_kfold</a><br/>\n",
       "                Run page: <a href=\"https://wandb.ai/maskedstudent/ringcounts_kfold/runs/1i5razbe\" target=\"_blank\">https://wandb.ai/maskedstudent/ringcounts_kfold/runs/1i5razbe</a><br/>\n",
       "                Run data is saved locally in <code>/home/sstudent/espi-work/wandb/run-20210923_153144-1i5razbe</code><br/><br/>\n",
       "            "
      ],
      "text/plain": [
       "<IPython.core.display.HTML object>"
      ]
     },
     "metadata": {},
     "output_type": "display_data"
    },
    {
     "name": "stdout",
     "output_type": "stream",
     "text": [
      "Training for 30 epochs, with 2 frozen epochs first\n",
      "WandbCallback requires use of \"SaveModelCallback\" to log best model\n"
     ]
    },
    {
     "data": {
      "text/html": [
       "\n",
       "    <div>\n",
       "        <style>\n",
       "            /* Turns off some styling */\n",
       "            progress {\n",
       "                /* gets rid of default border in Firefox and Opera. */\n",
       "                border: none;\n",
       "                /* Needs to be in here for Safari polyfill so background images work as expected. */\n",
       "                background-size: auto;\n",
       "            }\n",
       "            .progress-bar-interrupted, .progress-bar-interrupted::-webkit-progress-bar {\n",
       "                background: #F44336;\n",
       "            }\n",
       "        </style>\n",
       "      <progress value='0' class='' max='2' style='width:300px; height:20px; vertical-align: middle;'></progress>\n",
       "      0.00% [0/2 00:00<00:00]\n",
       "    </div>\n",
       "    \n",
       "<table border=\"1\" class=\"dataframe\">\n",
       "  <thead>\n",
       "    <tr style=\"text-align: left;\">\n",
       "      <th>epoch</th>\n",
       "      <th>train_loss</th>\n",
       "      <th>valid_loss</th>\n",
       "      <th>mae</th>\n",
       "      <th>acc_reg05</th>\n",
       "      <th>acc_reg07</th>\n",
       "      <th>acc_reg1</th>\n",
       "      <th>acc_reg15</th>\n",
       "      <th>acc_reg2</th>\n",
       "      <th>time</th>\n",
       "    </tr>\n",
       "  </thead>\n",
       "  <tbody>\n",
       "  </tbody>\n",
       "</table><p>\n",
       "\n",
       "    <div>\n",
       "        <style>\n",
       "            /* Turns off some styling */\n",
       "            progress {\n",
       "                /* gets rid of default border in Firefox and Opera. */\n",
       "                border: none;\n",
       "                /* Needs to be in here for Safari polyfill so background images work as expected. */\n",
       "                background-size: auto;\n",
       "            }\n",
       "            .progress-bar-interrupted, .progress-bar-interrupted::-webkit-progress-bar {\n",
       "                background: #F44336;\n",
       "            }\n",
       "        </style>\n",
       "      <progress value='36' class='' max='165' style='width:300px; height:20px; vertical-align: middle;'></progress>\n",
       "      21.82% [36/165 00:03<00:13 25.0681]\n",
       "    </div>\n",
       "    "
      ],
      "text/plain": [
       "<IPython.core.display.HTML object>"
      ]
     },
     "metadata": {},
     "output_type": "display_data"
    }
   ],
   "source": [
    "wandb.init(project='ringcounts_kfold', name=f'k={k},{dataset_name}')\n",
    "\n",
    "learn = cnn_learner(dls, resnet34, n_out=1, y_range=y_range, \n",
    "                    metrics=[mae, acc_reg05,acc_reg07, acc_reg1,acc_reg15,acc_reg2], loss_func=MSELossFlat(), \n",
    "                    opt_func=opt, cbs=WandbCallback())\n",
    "\n",
    "#learn.lr_find()\n",
    "\n",
    "#learn.fine_tune(10, 1e-2)\n",
    "lr = 5e-3\n",
    "epochs = 30\n",
    "freeze_epochs = 2\n",
    "print(f\"Training for {epochs} epochs, with {freeze_epochs} frozen epochs first\")\n",
    "learn.fine_tune(epochs, lr, freeze_epochs=2)\n",
    "wandb.finish()\n",
    "learn.save(f'crop-rings-real_k{k}')"
   ]
  },
  {
   "cell_type": "code",
   "execution_count": null,
   "metadata": {},
   "outputs": [],
   "source": [
    "# Interpretation\n",
    "\n",
    "learn.load(f'crop-rings-real_k{k}');\n",
    "\n",
    "preds, targs, losses = learn.get_preds(with_loss=True) # validation set only\n",
    "print(\"len(preds = \",len(preds))\n",
    "\n",
    "def showpred(ind, preds, targs, losses, dls): # show prediction at this index\n",
    "    print(f\"preds[{ind}] = {preds[ind]}, targs[{ind}] = {targs[ind]}, loss = {losses[ind]}\")\n",
    "    print(f\"file = {dls.valid.items[ind]}\")\n",
    "    print(\"Image:\")\n",
    "    dls.valid.dataset[ind][0].show()\n",
    "\n",
    "#showpred(0, preds, targs, losses, dls)\n",
    "\n",
    "#preds, targs, losses = learn.get_preds(with_loss=True)\n",
    "results = []\n",
    "for i in range(len(preds)):\n",
    "    line_list = [dls.valid.items[i].stem]+[round(targs[i].cpu().numpy().item(),2), round(preds[i][0].cpu().numpy().item(),2), losses[i].cpu().numpy(), i]\n",
    "    results.append(line_list)\n",
    "\n",
    "# store as pandas dataframe\n",
    "res_df = pd.DataFrame(results, columns=['filename', 'target', 'prediction', 'loss','i'])\n",
    "\n",
    "res_df = res_df.sort_values('loss', ascending=False)\n",
    "res_df.head()\n",
    "\n",
    "res_df.to_csv(f'ring_count_top_losses_real_k{k}.csv', index=False)"
   ]
  },
  {
   "cell_type": "code",
   "execution_count": null,
   "metadata": {},
   "outputs": [],
   "source": []
  }
 ],
 "metadata": {
  "kernelspec": {
   "display_name": "Python 3 (ipykernel)",
   "language": "python",
   "name": "python3"
  }
 },
 "nbformat": 4,
 "nbformat_minor": 1
}
