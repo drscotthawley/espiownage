{
 "cells": [
  {
   "cell_type": "code",
   "execution_count": null,
   "metadata": {},
   "outputs": [],
   "source": [
    "# default_exp scripts"
   ]
  },
  {
   "cell_type": "code",
   "execution_count": null,
   "metadata": {},
   "outputs": [],
   "source": [
    "#hide\n",
    "#from nbdev.showdoc import *\n",
    "from nbverbose.showdoc import *"
   ]
  },
  {
   "cell_type": "markdown",
   "metadata": {},
   "source": [
    "# Console Scripts"
   ]
  },
  {
   "cell_type": "markdown",
   "metadata": {},
   "source": [
    "These can all be run from the command line / terminal:"
   ]
  },
  {
   "cell_type": "code",
   "execution_count": null,
   "metadata": {},
   "outputs": [],
   "source": [
    "#export\n",
    "from espiownage.core import *\n",
    "from espiownage.ellipse_editor import *\n",
    "from espiownage.gen_bboxes import *\n",
    "from espiownage.gen_crops import *\n",
    "from espiownage.gen_masks import *\n",
    "from espiownage.gen_fake import *\n",
    "from espiownage.grab_recent import *"
   ]
  },
  {
   "cell_type": "code",
   "execution_count": null,
   "metadata": {},
   "outputs": [
    {
     "data": {
      "text/markdown": [
       "<h4 id=\"ellipse_editor\" class=\"doc_header\"><code>ellipse_editor</code><a href=\"https://github.com/drscotthawley/espiownage/tree/master/espiownage/ellipse_editor.py#L514\" class=\"source_link\" style=\"float:right\">[source]</a></h4>\n",
       "\n",
       "> <code>ellipse_editor</code>(**`seq`**:\"Ignore top-loss ordering and do sequential ordering\", **`files`**:\"Wildcard name for all CSV files to edit\"=*`'annotations/*.csv'`*, **`imgbank`**:\"Directory where all the (unlabeled) images are\"=*`'images/'`*, **`tldir`**:\"Directory where 'top losses' info is stored'\"=*`'top_losses/'`*)\n",
       "\n",
       "\n",
       "\n",
       "**Parameters:**\n",
       "\n",
       "\n",
       " - **`seq`** : *`<Ignore top-loss ordering and do sequential ordering>`*\n",
       "\n",
       " - **`files`** : *`str <Wildcard name for all CSV files to edit>`*, *optional*\n",
       "\n",
       " - **`imgbank`** : *`str <Directory where all the (unlabeled) images are>`*, *optional*\n",
       "\n",
       " - **`tldir`** : *`str <Directory where 'top losses' info is stored'>`*, *optional*\n"
      ],
      "text/plain": [
       "<IPython.core.display.Markdown object>"
      ]
     },
     "metadata": {},
     "output_type": "display_data"
    }
   ],
   "source": [
    "#hide_input\n",
    "show_doc(ellipse_editor)"
   ]
  },
  {
   "cell_type": "markdown",
   "metadata": {},
   "source": [
    "When available, the ellipse editor will show model predictions (\"top losses\") such as segmentations masks (in purple) and ring counts (in yellow), to indicate differences between annotations and the model's predictions.  This can be used to guide the user's attention to annotations that may need revising, and/or as a gauge of the model's performance.\n",
    "![ellipse editor with seg masks](images/ellipse_editor_with_seg_masks.png)"
   ]
  },
  {
   "cell_type": "code",
   "execution_count": null,
   "metadata": {},
   "outputs": [
    {
     "name": "stdout",
     "output_type": "stream",
     "text": [
      "usage: ellipse_editor [-h] [--seq] [--files FILES] [--imgbank IMGBANK]\r\n",
      "                      [--tldir TLDIR]\r\n",
      "\r\n",
      "optional arguments:\r\n",
      "  -h, --help         show this help message and exit\r\n",
      "  --seq              Ignore top-loss ordering and do sequential ordering\r\n",
      "                     (default: False)\r\n",
      "  --files FILES      Wildcard name for all CSV files to edit (default:\r\n",
      "                     annotations/*.csv)\r\n",
      "  --imgbank IMGBANK  Directory where all the (unlabeled) images are (default:\r\n",
      "                     images/)\r\n",
      "  --tldir TLDIR      Directory where 'top losses' info is stored' (default:\r\n",
      "                     top_losses/)\r\n"
     ]
    }
   ],
   "source": [
    "!ellipse_editor -h"
   ]
  },
  {
   "cell_type": "markdown",
   "metadata": {},
   "source": [
    "**Examples:**\n",
    "```bash\n",
    "ellipse_editor --files=annotations_yourlastname/*.csv\n",
    "```\n",
    "\n",
    "See `ellipse_editor -h` for command-line options.   You can, for example, edit only one strike's worth of data by running\n",
    "\n",
    "```bash\n",
    "ellipse_editor --files=annotations_yourlastname/06241902*.csv\n",
    "```\n",
    "or a range of annotations, as in `ellipse editor --files=annotations_yourlastname/06241902_proc_001*.csv`"
   ]
  },
  {
   "cell_type": "code",
   "execution_count": null,
   "metadata": {},
   "outputs": [
    {
     "data": {
      "text/markdown": [
       "<h4 id=\"gen_masks\" class=\"doc_header\"><code>gen_masks</code><a href=\"https://github.com/drscotthawley/espiownage/tree/master/espiownage/gen_masks.py#L70\" class=\"source_link\" style=\"float:right\">[source]</a></h4>\n",
       "\n",
       "> <code>gen_masks</code>(**`allone`**:\"All objects get assigned to class 1\", **`cp_ann_imgs`**:\"make directory of only images for which annotations exist (to annotated_images/)\", **`files`**:\"Wildcard name for all CSV files to edit\"=*`'annotations/*.csv'`*, **`maskdir`**:\"Directory to write segmentation masks to\"=*`'masks/'`*, **`step`**:\"Step size / resolution / precision of ring count\"=*`1`*)\n",
       "\n",
       "Generate segmentation masks for all annotations\n",
       "\n",
       "**Parameters:**\n",
       "\n",
       "\n",
       " - **`allone`** : *`<All objects get assigned to class 1>`*\n",
       "\n",
       " - **`cp_ann_imgs`** : *`<make directory of only images for which annotations exist (to annotated_images/)>`*\n",
       "\n",
       " - **`files`** : *`str <Wildcard name for all CSV files to edit>`*, *optional*\n",
       "\n",
       " - **`maskdir`** : *`str <Directory to write segmentation masks to>`*, *optional*\n",
       "\n",
       " - **`step`** : *`float <Step size / resolution / precision of ring count>`*, *optional*\n"
      ],
      "text/plain": [
       "<IPython.core.display.Markdown object>"
      ]
     },
     "metadata": {},
     "output_type": "display_data"
    }
   ],
   "source": [
    "#hide_input\n",
    "show_doc(gen_masks)"
   ]
  },
  {
   "cell_type": "code",
   "execution_count": null,
   "metadata": {},
   "outputs": [
    {
     "name": "stdout",
     "output_type": "stream",
     "text": [
      "usage: gen_masks [-h] [--allone] [--cp_ann_imgs] [--files FILES]\r\n",
      "                 [--maskdir MASKDIR] [--step STEP]\r\n",
      "\r\n",
      "Generate segmentation masks for all annotations\r\n",
      "\r\n",
      "optional arguments:\r\n",
      "  -h, --help         show this help message and exit\r\n",
      "  --allone           All objects get assigned to class 1 (default: False)\r\n",
      "  --cp_ann_imgs      make directory of only images for which annotations exist\r\n",
      "                     (to annotated_images/) (default: False)\r\n",
      "  --files FILES      Wildcard name for all CSV files to edit (default:\r\n",
      "                     annotations/*.csv)\r\n",
      "  --maskdir MASKDIR  Directory to write segmentation masks to (default: masks/)\r\n",
      "  --step STEP        Step size / resolution / precision of ring count (default:\r\n",
      "                     1)\r\n"
     ]
    }
   ],
   "source": [
    "!gen_masks -h"
   ]
  },
  {
   "cell_type": "code",
   "execution_count": null,
   "metadata": {},
   "outputs": [
    {
     "data": {
      "text/markdown": [
       "<h4 id=\"gen_bboxes\" class=\"doc_header\"><code>gen_bboxes</code><a href=\"https://github.com/drscotthawley/espiownage/tree/master/espiownage/gen_bboxes.py#L118\" class=\"source_link\" style=\"float:right\">[source]</a></h4>\n",
       "\n",
       "> <code>gen_bboxes</code>(**`reg`**:\"Set this for regression model (1 class, no steps)\", **`files`**:\"Wildcard name for all (ellipse) CSV files to read\"=*`'annotations/*.csv'`*, **`bboxdir`**:\"Directory to write bboxes to\"=*`'bboxes'`*, **`step`**:\"For classification model: Step size / resolution / precision of ring count\"=*`1`*)\n",
       "\n",
       "\n",
       "\n",
       "**Parameters:**\n",
       "\n",
       "\n",
       " - **`reg`** : *`<Set this for regression model (1 class, no steps)>`*\n",
       "\n",
       " - **`files`** : *`str <Wildcard name for all (ellipse) CSV files to read>`*, *optional*\t<p>obpr:Param(\"Set this for one box per ring\", store_true),</p>\n",
       "\n",
       "\n",
       " - **`bboxdir`** : *`str <Directory to write bboxes to>`*, *optional*\n",
       "\n",
       " - **`step`** : *`float <For classification model: Step size / resolution / precision of ring count>`*, *optional*\n"
      ],
      "text/plain": [
       "<IPython.core.display.Markdown object>"
      ]
     },
     "metadata": {},
     "output_type": "display_data"
    }
   ],
   "source": [
    "#hide_input\n",
    "show_doc(gen_bboxes)"
   ]
  },
  {
   "cell_type": "code",
   "execution_count": null,
   "metadata": {},
   "outputs": [
    {
     "name": "stdout",
     "output_type": "stream",
     "text": [
      "usage: gen_bboxes [-h] [--reg] [--files FILES] [--bboxdir BBOXDIR] [--step STEP]\r\n",
      "\r\n",
      "optional arguments:\r\n",
      "  -h, --help         show this help message and exit\r\n",
      "  --reg              Set this for regression model (1 class, no steps) (default:\r\n",
      "                     False)\r\n",
      "  --files FILES      Wildcard name for all (ellipse) CSV files to read (default:\r\n",
      "                     annotations/*.csv)\r\n",
      "  --bboxdir BBOXDIR  Directory to write bboxes to (default: bboxes)\r\n",
      "  --step STEP        For classification model: Step size / resolution /\r\n",
      "                     precision of ring count (default: 1)\r\n"
     ]
    }
   ],
   "source": [
    "!gen_bboxes -h"
   ]
  },
  {
   "cell_type": "code",
   "execution_count": null,
   "metadata": {},
   "outputs": [
    {
     "data": {
      "text/markdown": [
       "<h4 id=\"gen_crops\" class=\"doc_header\"><code>gen_crops</code><a href=\"https://github.com/drscotthawley/espiownage/tree/master/espiownage/gen_crops.py#L48\" class=\"source_link\" style=\"float:right\">[source]</a></h4>\n",
       "\n",
       "> <code>gen_crops</code>(**`files`**:\"Wildcard name for all CSV files to edit\"=*`'annotations/*.csv'`*, **`outdir`**:\"Directory to write output cropped images to\"=*`'crops/'`*)\n",
       "\n",
       "Generate cropped images for all annotations\n",
       "\n",
       "**Parameters:**\n",
       "\n",
       "\n",
       " - **`files`** : *`str <Wildcard name for all CSV files to edit>`*, *optional*\n",
       "\n",
       " - **`outdir`** : *`str <Directory to write output cropped images to>`*, *optional*\n"
      ],
      "text/plain": [
       "<IPython.core.display.Markdown object>"
      ]
     },
     "metadata": {},
     "output_type": "display_data"
    }
   ],
   "source": [
    "#hide_input\n",
    "show_doc(gen_crops)"
   ]
  },
  {
   "cell_type": "code",
   "execution_count": null,
   "metadata": {},
   "outputs": [
    {
     "name": "stdout",
     "output_type": "stream",
     "text": [
      "usage: gen_crops [-h] [--files FILES] [--outdir OUTDIR]\r\n",
      "\r\n",
      "Generate cropped images for all annotations\r\n",
      "\r\n",
      "optional arguments:\r\n",
      "  -h, --help       show this help message and exit\r\n",
      "  --files FILES    Wildcard name for all CSV files to edit (default:\r\n",
      "                   annotations/*.csv)\r\n",
      "  --outdir OUTDIR  Directory to write output cropped images to (default: crops/)\r\n"
     ]
    }
   ],
   "source": [
    "!gen_crops -h"
   ]
  },
  {
   "cell_type": "code",
   "execution_count": null,
   "metadata": {},
   "outputs": [
    {
     "data": {
      "text/markdown": [
       "<h4 id=\"grab_recent\" class=\"doc_header\"><code>grab_recent</code><a href=\"https://github.com/drscotthawley/espiownage/tree/master/espiownage/grab_recent.py#L18\" class=\"source_link\" style=\"float:right\">[source]</a></h4>\n",
       "\n",
       "> <code>grab_recent</code>(**`dirs`**:\"annotation directories check\"=*`'annotations*'`*, **`dest`**:\"Directory to write new annotations to\"=*`'recent_annotations'`*)\n",
       "\n",
       "\n",
       "\n",
       "**Parameters:**\n",
       "\n",
       "\n",
       " - **`dirs`** : *`str <annotation directories check>`*, *optional*\n",
       "\n",
       " - **`dest`** : *`str <Directory to write new annotations to>`*, *optional*\n"
      ],
      "text/plain": [
       "<IPython.core.display.Markdown object>"
      ]
     },
     "metadata": {},
     "output_type": "display_data"
    }
   ],
   "source": [
    "#hide_input\n",
    "show_doc(grab_recent)"
   ]
  },
  {
   "cell_type": "code",
   "execution_count": null,
   "metadata": {},
   "outputs": [
    {
     "name": "stdout",
     "output_type": "stream",
     "text": [
      "usage: grab_recent [-h] [--dirs DIRS] [--dest DEST]\r\n",
      "\r\n",
      "optional arguments:\r\n",
      "  -h, --help   show this help message and exit\r\n",
      "  --dirs DIRS  annotation directories check (default: annotations*)\r\n",
      "  --dest DEST  Directory to write new annotations to (default:\r\n",
      "               recent_annotations)\r\n"
     ]
    }
   ],
   "source": [
    "!grab_recent -h"
   ]
  },
  {
   "cell_type": "code",
   "execution_count": null,
   "metadata": {},
   "outputs": [
    {
     "data": {
      "text/markdown": [
       "<h4 id=\"gen_fake\" class=\"doc_header\"><code>gen_fake</code><a href=\"https://github.com/drscotthawley/espiownage/tree/master/espiownage/gen_fake.py#L265\" class=\"source_link\" style=\"float:right\">[source]</a></h4>\n",
       "\n",
       "> <code>gen_fake</code>(**`n`**:\"Number of images to generate\"=*`2000`*, **`outdir`**:\"Directory to write to\"=*`'espiownage-fake'`*)\n",
       "\n",
       "Generates fake ESPI-like images\n",
       "\n",
       "**Parameters:**\n",
       "\n",
       "\n",
       " - **`n`** : *`int <Number of images to generate>`*, *optional*\n",
       "\n",
       " - **`outdir`** : *`str <Directory to write to>`*, *optional*\n"
      ],
      "text/plain": [
       "<IPython.core.display.Markdown object>"
      ]
     },
     "metadata": {},
     "output_type": "display_data"
    }
   ],
   "source": [
    "#hide_input\n",
    "show_doc(gen_fake)"
   ]
  },
  {
   "cell_type": "code",
   "execution_count": null,
   "metadata": {},
   "outputs": [
    {
     "name": "stdout",
     "output_type": "stream",
     "text": [
      "usage: gen_fake [-h] [--n N] [--outdir OUTDIR]\r\n",
      "\r\n",
      "Generates fake ESPI-like images\r\n",
      "\r\n",
      "optional arguments:\r\n",
      "  -h, --help       show this help message and exit\r\n",
      "  --n N            Number of images to generate (default: 2000)\r\n",
      "  --outdir OUTDIR  Directory to write to (default: espiownage-fake)\r\n"
     ]
    }
   ],
   "source": [
    "!gen_fake -h"
   ]
  },
  {
   "cell_type": "markdown",
   "metadata": {},
   "source": [
    "--Scott H. Hawley, September 2021"
   ]
  },
  {
   "cell_type": "code",
   "execution_count": null,
   "metadata": {},
   "outputs": [],
   "source": []
  }
 ],
 "metadata": {
  "kernelspec": {
   "display_name": "Python 3 (ipykernel)",
   "language": "python",
   "name": "python3"
  }
 },
 "nbformat": 4,
 "nbformat_minor": 2
}
