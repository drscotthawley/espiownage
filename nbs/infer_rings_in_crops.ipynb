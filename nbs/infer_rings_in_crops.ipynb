{
 "cells": [
  {
   "cell_type": "markdown",
   "metadata": {},
   "source": [
    "# Inferring Rings in Crops"
   ]
  },
  {
   "cell_type": "code",
   "execution_count": null,
   "metadata": {},
   "outputs": [],
   "source": [
    "#all_slow"
   ]
  },
  {
   "cell_type": "code",
   "execution_count": null,
   "metadata": {},
   "outputs": [
    {
     "name": "stdout",
     "output_type": "stream",
     "text": [
      "\u001b[33mWARNING: You are using pip version 21.0.1; however, version 21.2.4 is available.\r\n",
      "You should consider upgrading via the '/usr/bin/python3.8 -m pip install --upgrade pip' command.\u001b[0m\r\n"
     ]
    }
   ],
   "source": [
    "#hide\n",
    "#Run once per session\n",
    "!pip install fastai espiownage mrspuff typing_extensions -q --upgrade"
   ]
  },
  {
   "cell_type": "code",
   "execution_count": null,
   "metadata": {},
   "outputs": [
    {
     "name": "stdout",
     "output_type": "stream",
     "text": [
      "TORCH_VERSION=torch1.9.0; CUDA_VERSION=cu111\n",
      "CUDA available = True, Device count = 1, Current device = 0\n",
      "Device name = GeForce RTX 3080\n",
      "hostname: bengio\n",
      "espiownage version 0.0.41\n"
     ]
    }
   ],
   "source": [
    "import espiownage\n",
    "from espiownage.core import *\n",
    "sysinfo()\n",
    "print(f\"espiownage version {espiownage.__version__}\")"
   ]
  },
  {
   "cell_type": "code",
   "execution_count": null,
   "metadata": {},
   "outputs": [],
   "source": [
    "from fastai.vision.all import *"
   ]
  },
  {
   "cell_type": "code",
   "execution_count": null,
   "metadata": {},
   "outputs": [],
   "source": [
    "from fastcore.foundation import L\n",
    "from fastcore.xtras import Path # @patch'd properties to the Pathlib module\n",
    "\n",
    "from fastai.callback.fp16 import to_fp16\n",
    "from fastai.callback.schedule import fit_one_cycle, lr_find \n",
    "from fastai.data.external import untar_data, URLs\n",
    "\n",
    "from fastai.data.block import RegressionBlock, DataBlock\n",
    "from fastai.data.transforms import get_image_files, Normalize, RandomSplitter, parent_label\n",
    "\n",
    "from fastai.interpret import ClassificationInterpretation\n",
    "from fastai.learner import Learner # imports @patch'd properties to Learner including `save`, `load`, `freeze`, and `unfreeze`\n",
    "from fastai.optimizer import ranger\n",
    "\n",
    "from fastai.vision.augment import aug_transforms, RandomResizedCrop, Resize, ResizeMethod\n",
    "from fastai.vision.core import imagenet_stats\n",
    "from fastai.vision.data import ImageBlock\n",
    "from fastai.vision.learner import cnn_learner\n",
    "from fastai.vision.utils import download_images, verify_images\n",
    "\n",
    "from mrspuff.utils import on_colab"
   ]
  },
  {
   "cell_type": "code",
   "execution_count": null,
   "metadata": {},
   "outputs": [
    {
     "name": "stdout",
     "output_type": "stream",
     "text": [
      "/home/shawley/datasets/espiownage-cleaner/crops\n"
     ]
    }
   ],
   "source": [
    "on_colab = on_colab()\n",
    "\n",
    "if on_colab:\n",
    "    path = untar_data('http://hedges.belmont.edu/~shawley/espiownage-cleaner.tgz') / 'crops'\n",
    "else:\n",
    "    path = Path('/home/shawley/datasets/espiownage-cleaner/crops') \n",
    "\n",
    "print(path)"
   ]
  },
  {
   "cell_type": "markdown",
   "metadata": {},
   "source": [
    "## Define the Original dls\n",
    "To set up the dataloader.... this isn't technically necessary but it's the only way I know how. "
   ]
  },
  {
   "cell_type": "code",
   "execution_count": null,
   "metadata": {},
   "outputs": [
    {
     "name": "stdout",
     "output_type": "stream",
     "text": [
      "6614 total cropped images\n",
      "/home/shawley/datasets/espiownage-cleaner/crops/06241902_proc_00618_0_36_76_255_11.0.png\n",
      "11.0\n"
     ]
    },
    {
     "name": "stderr",
     "output_type": "stream",
     "text": [
      "/home/shawley/envs/espi/lib/python3.6/site-packages/torch/_tensor.py:1023: UserWarning:\n",
      "\n",
      "torch.solve is deprecated in favor of torch.linalg.solveand will be removed in a future PyTorch release.\n",
      "torch.linalg.solve has its arguments reversed and does not return the LU factorization.\n",
      "To get the LU factorization see torch.lu, which can be used with torch.lu_solve or torch.lu_unpack.\n",
      "X = torch.solve(B, A).solution\n",
      "should be replaced with\n",
      "X = torch.linalg.solve(A, B) (Triggered internally at  /pytorch/aten/src/ATen/native/BatchLinearAlgebra.cpp:760.)\n",
      "\n"
     ]
    }
   ],
   "source": [
    "fnames = get_image_files(path)\n",
    "print(f\"{len(fnames)} total cropped images\")\n",
    "ind = 1  # pick one cropped image\n",
    "print(fnames[ind])\n",
    "\n",
    "def label_func(x):  \n",
    "    return round(float(x.stem.split('_')[-1]),2)\n",
    "\n",
    "print(label_func(fnames[ind]))\n",
    "\n",
    "cropsize = (300,300) # pixels\n",
    "croppedrings = DataBlock(blocks=(ImageBlock, RegressionBlock(n_out=1)),\n",
    "                    get_items=get_image_files,\n",
    "                    splitter=RandomSplitter(),\n",
    "                    get_y=label_func,\n",
    "                    item_tfms=Resize(cropsize, ResizeMethod.Squish),\n",
    "                    batch_tfms=[*aug_transforms(size=cropsize, flip_vert=True, max_rotate=360.0), \n",
    "                    Normalize.from_stats(*imagenet_stats)])\n",
    "\n",
    "dls = croppedrings.dataloaders(path, bs=32)"
   ]
  },
  {
   "cell_type": "markdown",
   "metadata": {},
   "source": [
    "## Define the model & load weights"
   ]
  },
  {
   "cell_type": "code",
   "execution_count": null,
   "metadata": {},
   "outputs": [
    {
     "data": {
      "text/plain": [
       "<fastai.learner.Learner at 0x7f6b103aa748>"
      ]
     },
     "execution_count": null,
     "metadata": {},
     "output_type": "execute_result"
    }
   ],
   "source": [
    "opt = ranger\n",
    "y_range=(0.2,13)  # balance between \"clamping\" to range of real data vs too much \"compression\" from sigmoid nonlinearity\n",
    "learn = cnn_learner(dls, resnet34, n_out=1, y_range=y_range, \n",
    "                    loss_func=MSELossFlat(), opt_func=opt)\n",
    "learn.load('crop-rings-real_k0')"
   ]
  },
  {
   "cell_type": "markdown",
   "metadata": {},
   "source": [
    "## Do the predictions"
   ]
  },
  {
   "cell_type": "code",
   "execution_count": null,
   "metadata": {},
   "outputs": [
    {
     "name": "stdout",
     "output_type": "stream",
     "text": [
      "30980 image crops to predict on.\n"
     ]
    },
    {
     "data": {
      "image/png": "[encoded data removed]",
      "text/plain": [
       "PILImage mode=RGB size=123x120"
      ]
     },
     "execution_count": null,
     "metadata": {},
     "output_type": "execute_result"
    }
   ],
   "source": [
    "crop_dir = 'crops_iv'  \n",
    "pfnames = sorted(glob.glob(crop_dir+'/*.png')) # files to predict on\n",
    "print(f\"{len(pfnames)} image crops to predict on.\")\n",
    "\n",
    "# pick one and look at it\n",
    "ind = len(pfnames)//4\n",
    "pf = pfnames[ind]\n",
    "im = PILImage.create(pf)\n",
    "im "
   ]
  },
  {
   "cell_type": "code",
   "execution_count": null,
   "metadata": {},
   "outputs": [
    {
     "data": {
      "text/html": [],
      "text/plain": [
       "<IPython.core.display.HTML object>"
      ]
     },
     "metadata": {},
     "output_type": "display_data"
    },
    {
     "name": "stdout",
     "output_type": "stream",
     "text": [
      "torch.Size([30980, 1])\n",
      "torch.Size([30980])\n"
     ]
    }
   ],
   "source": [
    "# new test dataloader\n",
    "dlpred = dls.test_dl(pfnames)\n",
    "\n",
    "# do the inference\n",
    "preds, _ = learn.get_preds(dl=dlpred)\n",
    "\n",
    "# inspect what we got, and \n",
    "print(preds.shape)\n",
    "preds = preds.squeeze(1)\n",
    "print(preds.shape)"
   ]
  },
  {
   "cell_type": "code",
   "execution_count": null,
   "metadata": {},
   "outputs": [
    {
     "data": {
      "text/plain": [
       "array([ 7.3373857,  7.6905074,  4.5563207, ...,  4.4069023,  4.370282 ,\n",
       "       10.989752 ], dtype=float32)"
      ]
     },
     "execution_count": null,
     "metadata": {},
     "output_type": "execute_result"
    }
   ],
   "source": [
    "preds = preds.cpu().numpy()\n",
    "preds"
   ]
  },
  {
   "cell_type": "markdown",
   "metadata": {},
   "source": [
    "## Now what?"
   ]
  },
  {
   "cell_type": "markdown",
   "metadata": {},
   "source": [
    "save a CSV, send it on"
   ]
  },
  {
   "cell_type": "code",
   "execution_count": null,
   "metadata": {},
   "outputs": [],
   "source": [
    "# col_names = ['cx', 'cy', 'filename', 'rings', 'a', 'b', 'angle']\n",
    "\n",
    "results = []\n",
    "for i, pfile in enumerate(pfnames):\n",
    "    rings = preds[i]\n",
    "    pfile = str(Path(pfile).stem)\n",
    "    splits = pfile.split('_')\n",
    "    filename = splits[0]+'_proc_'+splits[2]+'.png'\n",
    "    bbox = [int(x) for x in splits[3:]]\n",
    "    cx, cy = (bbox[0]+bbox[2])/2, (bbox[1]+bbox[3])/2\n",
    "    a, b, = bbox[2]-bbox[0], bbox[3]-bbox[1]\n",
    "    angle = 0   # because who knows, right?\n",
    "    line_list = [cx, cy, filename, rings, a, b, angle, bbox]\n",
    "    results.append(line_list)"
   ]
  },
  {
   "cell_type": "code",
   "execution_count": null,
   "metadata": {},
   "outputs": [
    {
     "name": "stdout",
     "output_type": "stream",
     "text": [
      "30980\n"
     ]
    },
    {
     "data": {
      "text/html": [
       "<div>\n",
       "<style scoped>\n",
       "    .dataframe tbody tr th:only-of-type {\n",
       "        vertical-align: middle;\n",
       "    }\n",
       "\n",
       "    .dataframe tbody tr th {\n",
       "        vertical-align: top;\n",
       "    }\n",
       "\n",
       "    .dataframe thead th {\n",
       "        text-align: right;\n",
       "    }\n",
       "</style>\n",
       "<table border=\"1\" class=\"dataframe\">\n",
       "  <thead>\n",
       "    <tr style=\"text-align: right;\">\n",
       "      <th></th>\n",
       "      <th>cx</th>\n",
       "      <th>cy</th>\n",
       "      <th>filename</th>\n",
       "      <th>rings</th>\n",
       "      <th>a</th>\n",
       "      <th>b</th>\n",
       "      <th>angle</th>\n",
       "      <th>bbox</th>\n",
       "    </tr>\n",
       "  </thead>\n",
       "  <tbody>\n",
       "    <tr>\n",
       "      <th>0</th>\n",
       "      <td>74.0</td>\n",
       "      <td>154.0</td>\n",
       "      <td>06240907_proc_00243.png</td>\n",
       "      <td>7.337386</td>\n",
       "      <td>140</td>\n",
       "      <td>242</td>\n",
       "      <td>0</td>\n",
       "      <td>[4, 33, 144, 275]</td>\n",
       "    </tr>\n",
       "    <tr>\n",
       "      <th>1</th>\n",
       "      <td>77.0</td>\n",
       "      <td>160.0</td>\n",
       "      <td>06240907_proc_00244.png</td>\n",
       "      <td>7.690507</td>\n",
       "      <td>140</td>\n",
       "      <td>256</td>\n",
       "      <td>0</td>\n",
       "      <td>[7, 32, 147, 288]</td>\n",
       "    </tr>\n",
       "    <tr>\n",
       "      <th>2</th>\n",
       "      <td>46.5</td>\n",
       "      <td>169.0</td>\n",
       "      <td>06240907_proc_00250.png</td>\n",
       "      <td>4.556321</td>\n",
       "      <td>93</td>\n",
       "      <td>248</td>\n",
       "      <td>0</td>\n",
       "      <td>[0, 45, 93, 293]</td>\n",
       "    </tr>\n",
       "    <tr>\n",
       "      <th>3</th>\n",
       "      <td>94.5</td>\n",
       "      <td>221.5</td>\n",
       "      <td>06240907_proc_00252.png</td>\n",
       "      <td>2.292115</td>\n",
       "      <td>135</td>\n",
       "      <td>153</td>\n",
       "      <td>0</td>\n",
       "      <td>[27, 145, 162, 298]</td>\n",
       "    </tr>\n",
       "    <tr>\n",
       "      <th>4</th>\n",
       "      <td>98.5</td>\n",
       "      <td>216.0</td>\n",
       "      <td>06240907_proc_00261.png</td>\n",
       "      <td>2.989285</td>\n",
       "      <td>145</td>\n",
       "      <td>152</td>\n",
       "      <td>0</td>\n",
       "      <td>[26, 140, 171, 292]</td>\n",
       "    </tr>\n",
       "  </tbody>\n",
       "</table>\n",
       "</div>"
      ],
      "text/plain": [
       "     cx     cy                 filename     rings    a    b  angle  \\\n",
       "0  74.0  154.0  06240907_proc_00243.png  7.337386  140  242      0   \n",
       "1  77.0  160.0  06240907_proc_00244.png  7.690507  140  256      0   \n",
       "2  46.5  169.0  06240907_proc_00250.png  4.556321   93  248      0   \n",
       "3  94.5  221.5  06240907_proc_00252.png  2.292115  135  153      0   \n",
       "4  98.5  216.0  06240907_proc_00261.png  2.989285  145  152      0   \n",
       "\n",
       "                  bbox  \n",
       "0    [4, 33, 144, 275]  \n",
       "1    [7, 32, 147, 288]  \n",
       "2     [0, 45, 93, 293]  \n",
       "3  [27, 145, 162, 298]  \n",
       "4  [26, 140, 171, 292]  "
      ]
     },
     "execution_count": null,
     "metadata": {},
     "output_type": "execute_result"
    }
   ],
   "source": [
    "# store as pandas dataframe\n",
    "res_df = pd.DataFrame(results, columns=['cx', 'cy', 'filename', 'rings', 'a', 'b', 'angle', 'bbox'])\n",
    "print(len(res_df))\n",
    "res_df.head()"
   ]
  },
  {
   "cell_type": "code",
   "execution_count": null,
   "metadata": {},
   "outputs": [],
   "source": [
    "abbrev_df = res_df[['cx', 'cy', 'filename', 'rings', 'a', 'b', 'angle']]\n",
    "abbrev_df.head()\n",
    "abbrev_df.to_csv('espiownage-ml-annotations.csv', index=False)"
   ]
  },
  {
   "cell_type": "markdown",
   "metadata": {},
   "source": [
    "## Explore the Data"
   ]
  },
  {
   "cell_type": "code",
   "execution_count": null,
   "metadata": {},
   "outputs": [],
   "source": [
    "df = res_df # more convenient name "
   ]
  },
  {
   "cell_type": "code",
   "execution_count": null,
   "metadata": {},
   "outputs": [],
   "source": [
    "def is_in_box(\n",
    "    p,     # a point as a (x,y) coordinate pair \n",
    "    bb,    # a bounding box of the form [xmin,ymin,xmax,ymax]\n",
    "    ):\n",
    "    \"Is this point within that bounding box?\"\n",
    "    x, y = p \n",
    "    return (x>=bb[0]) and (x<=bb[2]) and (y>=bb[1]) and (y<=bb[3])"
   ]
  },
  {
   "cell_type": "code",
   "execution_count": null,
   "metadata": {},
   "outputs": [],
   "source": [
    "assert is_in_box((100,100),(10,30,180,50)) == False\n",
    "assert is_in_box((100,100),(10,30,180,150)) == True"
   ]
  },
  {
   "cell_type": "code",
   "execution_count": null,
   "metadata": {},
   "outputs": [
    {
     "name": "stdout",
     "output_type": "stream",
     "text": [
      "We have 3831 bounding boxes (i.e frames) containing that point\n"
     ]
    },
    {
     "data": {
      "text/html": [
       "<div>\n",
       "<style scoped>\n",
       "    .dataframe tbody tr th:only-of-type {\n",
       "        vertical-align: middle;\n",
       "    }\n",
       "\n",
       "    .dataframe tbody tr th {\n",
       "        vertical-align: top;\n",
       "    }\n",
       "\n",
       "    .dataframe thead th {\n",
       "        text-align: right;\n",
       "    }\n",
       "</style>\n",
       "<table border=\"1\" class=\"dataframe\">\n",
       "  <thead>\n",
       "    <tr style=\"text-align: right;\">\n",
       "      <th></th>\n",
       "      <th>cx</th>\n",
       "      <th>cy</th>\n",
       "      <th>filename</th>\n",
       "      <th>rings</th>\n",
       "      <th>a</th>\n",
       "      <th>b</th>\n",
       "      <th>angle</th>\n",
       "      <th>bbox</th>\n",
       "      <th>p_in_box</th>\n",
       "      <th>rings_at_p</th>\n",
       "      <th>framenum</th>\n",
       "    </tr>\n",
       "  </thead>\n",
       "  <tbody>\n",
       "    <tr>\n",
       "      <th>30975</th>\n",
       "      <td>42.5</td>\n",
       "      <td>135.0</td>\n",
       "      <td>06241902_proc_01997.png</td>\n",
       "      <td>11.092749</td>\n",
       "      <td>83</td>\n",
       "      <td>196</td>\n",
       "      <td>0</td>\n",
       "      <td>[1, 37, 84, 233]</td>\n",
       "      <td>False</td>\n",
       "      <td>0.000000</td>\n",
       "      <td>13997</td>\n",
       "    </tr>\n",
       "    <tr>\n",
       "      <th>30976</th>\n",
       "      <td>44.0</td>\n",
       "      <td>140.5</td>\n",
       "      <td>06241902_proc_01998.png</td>\n",
       "      <td>11.158328</td>\n",
       "      <td>88</td>\n",
       "      <td>201</td>\n",
       "      <td>0</td>\n",
       "      <td>[0, 40, 88, 241]</td>\n",
       "      <td>False</td>\n",
       "      <td>0.000000</td>\n",
       "      <td>13998</td>\n",
       "    </tr>\n",
       "    <tr>\n",
       "      <th>30977</th>\n",
       "      <td>196.5</td>\n",
       "      <td>142.5</td>\n",
       "      <td>06241902_proc_01998.png</td>\n",
       "      <td>4.406902</td>\n",
       "      <td>143</td>\n",
       "      <td>137</td>\n",
       "      <td>0</td>\n",
       "      <td>[125, 74, 268, 211]</td>\n",
       "      <td>True</td>\n",
       "      <td>4.406902</td>\n",
       "      <td>13998</td>\n",
       "    </tr>\n",
       "    <tr>\n",
       "      <th>30978</th>\n",
       "      <td>195.5</td>\n",
       "      <td>140.5</td>\n",
       "      <td>06241902_proc_01999.png</td>\n",
       "      <td>4.370282</td>\n",
       "      <td>149</td>\n",
       "      <td>145</td>\n",
       "      <td>0</td>\n",
       "      <td>[121, 68, 270, 213]</td>\n",
       "      <td>True</td>\n",
       "      <td>4.370282</td>\n",
       "      <td>13999</td>\n",
       "    </tr>\n",
       "    <tr>\n",
       "      <th>30979</th>\n",
       "      <td>44.5</td>\n",
       "      <td>141.0</td>\n",
       "      <td>06241902_proc_01999.png</td>\n",
       "      <td>10.989752</td>\n",
       "      <td>87</td>\n",
       "      <td>206</td>\n",
       "      <td>0</td>\n",
       "      <td>[1, 38, 88, 244]</td>\n",
       "      <td>False</td>\n",
       "      <td>0.000000</td>\n",
       "      <td>13999</td>\n",
       "    </tr>\n",
       "  </tbody>\n",
       "</table>\n",
       "</div>"
      ],
      "text/plain": [
       "          cx     cy                 filename      rings    a    b  angle  \\\n",
       "30975   42.5  135.0  06241902_proc_01997.png  11.092749   83  196      0   \n",
       "30976   44.0  140.5  06241902_proc_01998.png  11.158328   88  201      0   \n",
       "30977  196.5  142.5  06241902_proc_01998.png   4.406902  143  137      0   \n",
       "30978  195.5  140.5  06241902_proc_01999.png   4.370282  149  145      0   \n",
       "30979   44.5  141.0  06241902_proc_01999.png  10.989752   87  206      0   \n",
       "\n",
       "                      bbox  p_in_box  rings_at_p  framenum  \n",
       "30975     [1, 37, 84, 233]     False    0.000000     13997  \n",
       "30976     [0, 40, 88, 241]     False    0.000000     13998  \n",
       "30977  [125, 74, 268, 211]      True    4.406902     13998  \n",
       "30978  [121, 68, 270, 213]      True    4.370282     13999  \n",
       "30979     [1, 38, 88, 244]     False    0.000000     13999  "
      ]
     },
     "execution_count": null,
     "metadata": {},
     "output_type": "execute_result"
    }
   ],
   "source": [
    "# pick a point\n",
    "p = (216, 139)  # same example as segmentation regression\n",
    "df['p_in_box'] = [is_in_box(p,x) for x in df['bbox']]\n",
    "print(f\"We have {df['p_in_box'].sum()} bounding boxes (i.e frames) containing that point\")\n",
    "#df['haverings'] = truelines\n",
    "df['rings_at_p'] = df['p_in_box']*df['rings']\n",
    "df.tail()"
   ]
  },
  {
   "cell_type": "code",
   "execution_count": null,
   "metadata": {},
   "outputs": [
    {
     "data": {
      "text/plain": [
       "13997"
      ]
     },
     "execution_count": null,
     "metadata": {},
     "output_type": "execute_result"
    }
   ],
   "source": [
    "fs_imgdir = '/home/shawley/datasets/zooniverse_steelpan/' # where all full size images are stored\n",
    "imlist = [os.path.basename(x) for x in sorted(glob.glob(fs_imgdir+'/*.png'))]\n",
    "\n",
    "fn_to_frame = lambda s: imlist.index(s)\n",
    "fn_to_frame('06241902_proc_01997.png')"
   ]
  },
  {
   "cell_type": "code",
   "execution_count": null,
   "metadata": {},
   "outputs": [],
   "source": [
    "df['framenum'] = df['filename'].apply(fn_to_frame)"
   ]
  },
  {
   "cell_type": "code",
   "execution_count": null,
   "metadata": {},
   "outputs": [
    {
     "data": {
      "text/html": [
       "<div>\n",
       "<style scoped>\n",
       "    .dataframe tbody tr th:only-of-type {\n",
       "        vertical-align: middle;\n",
       "    }\n",
       "\n",
       "    .dataframe tbody tr th {\n",
       "        vertical-align: top;\n",
       "    }\n",
       "\n",
       "    .dataframe thead th {\n",
       "        text-align: right;\n",
       "    }\n",
       "</style>\n",
       "<table border=\"1\" class=\"dataframe\">\n",
       "  <thead>\n",
       "    <tr style=\"text-align: right;\">\n",
       "      <th></th>\n",
       "      <th>cx</th>\n",
       "      <th>cy</th>\n",
       "      <th>filename</th>\n",
       "      <th>rings</th>\n",
       "      <th>a</th>\n",
       "      <th>b</th>\n",
       "      <th>angle</th>\n",
       "      <th>bbox</th>\n",
       "      <th>p_in_box</th>\n",
       "      <th>rings_at_p</th>\n",
       "      <th>framenum</th>\n",
       "    </tr>\n",
       "  </thead>\n",
       "  <tbody>\n",
       "    <tr>\n",
       "      <th>0</th>\n",
       "      <td>74.0</td>\n",
       "      <td>154.0</td>\n",
       "      <td>06240907_proc_00243.png</td>\n",
       "      <td>7.337386</td>\n",
       "      <td>140</td>\n",
       "      <td>242</td>\n",
       "      <td>0</td>\n",
       "      <td>[4, 33, 144, 275]</td>\n",
       "      <td>False</td>\n",
       "      <td>0.0</td>\n",
       "      <td>243</td>\n",
       "    </tr>\n",
       "    <tr>\n",
       "      <th>1</th>\n",
       "      <td>77.0</td>\n",
       "      <td>160.0</td>\n",
       "      <td>06240907_proc_00244.png</td>\n",
       "      <td>7.690507</td>\n",
       "      <td>140</td>\n",
       "      <td>256</td>\n",
       "      <td>0</td>\n",
       "      <td>[7, 32, 147, 288]</td>\n",
       "      <td>False</td>\n",
       "      <td>0.0</td>\n",
       "      <td>244</td>\n",
       "    </tr>\n",
       "    <tr>\n",
       "      <th>2</th>\n",
       "      <td>46.5</td>\n",
       "      <td>169.0</td>\n",
       "      <td>06240907_proc_00250.png</td>\n",
       "      <td>4.556321</td>\n",
       "      <td>93</td>\n",
       "      <td>248</td>\n",
       "      <td>0</td>\n",
       "      <td>[0, 45, 93, 293]</td>\n",
       "      <td>False</td>\n",
       "      <td>0.0</td>\n",
       "      <td>250</td>\n",
       "    </tr>\n",
       "    <tr>\n",
       "      <th>3</th>\n",
       "      <td>94.5</td>\n",
       "      <td>221.5</td>\n",
       "      <td>06240907_proc_00252.png</td>\n",
       "      <td>2.292115</td>\n",
       "      <td>135</td>\n",
       "      <td>153</td>\n",
       "      <td>0</td>\n",
       "      <td>[27, 145, 162, 298]</td>\n",
       "      <td>False</td>\n",
       "      <td>0.0</td>\n",
       "      <td>252</td>\n",
       "    </tr>\n",
       "    <tr>\n",
       "      <th>4</th>\n",
       "      <td>98.5</td>\n",
       "      <td>216.0</td>\n",
       "      <td>06240907_proc_00261.png</td>\n",
       "      <td>2.989285</td>\n",
       "      <td>145</td>\n",
       "      <td>152</td>\n",
       "      <td>0</td>\n",
       "      <td>[26, 140, 171, 292]</td>\n",
       "      <td>False</td>\n",
       "      <td>0.0</td>\n",
       "      <td>261</td>\n",
       "    </tr>\n",
       "  </tbody>\n",
       "</table>\n",
       "</div>"
      ],
      "text/plain": [
       "     cx     cy                 filename     rings    a    b  angle  \\\n",
       "0  74.0  154.0  06240907_proc_00243.png  7.337386  140  242      0   \n",
       "1  77.0  160.0  06240907_proc_00244.png  7.690507  140  256      0   \n",
       "2  46.5  169.0  06240907_proc_00250.png  4.556321   93  248      0   \n",
       "3  94.5  221.5  06240907_proc_00252.png  2.292115  135  153      0   \n",
       "4  98.5  216.0  06240907_proc_00261.png  2.989285  145  152      0   \n",
       "\n",
       "                  bbox  p_in_box  rings_at_p  framenum  \n",
       "0    [4, 33, 144, 275]     False         0.0       243  \n",
       "1    [7, 32, 147, 288]     False         0.0       244  \n",
       "2     [0, 45, 93, 293]     False         0.0       250  \n",
       "3  [27, 145, 162, 298]     False         0.0       252  \n",
       "4  [26, 140, 171, 292]     False         0.0       261  "
      ]
     },
     "execution_count": null,
     "metadata": {},
     "output_type": "execute_result"
    }
   ],
   "source": [
    "df.head()"
   ]
  },
  {
   "cell_type": "code",
   "execution_count": null,
   "metadata": {},
   "outputs": [],
   "source": [
    "plotdf = np.array(df[['framenum','rings_at_p']])\n",
    "r_vs_t = np.zeros(df['framenum'].max()+1)\n",
    "for (fn,r) in zip(df['framenum'],df['rings_at_p']):\n",
    "    r_vs_t[fn] = r"
   ]
  },
  {
   "cell_type": "code",
   "execution_count": null,
   "metadata": {},
   "outputs": [
    {
     "data": {
      "image/png": "[encoded data removed]",
      "text/plain": [
       "<Figure size 432x288 with 1 Axes>"
      ]
     },
     "metadata": {
      "needs_background": "light"
     },
     "output_type": "display_data"
    }
   ],
   "source": [
    "start, end = 13502-100, 13502+100\n",
    "plt.plot(range(start,end),r_vs_t[start:end])\n",
    "plt.ylabel('rings')\n",
    "plt.xlabel('frame')\n",
    "plt.show()"
   ]
  },
  {
   "cell_type": "code",
   "execution_count": null,
   "metadata": {},
   "outputs": [],
   "source": []
  }
 ],
 "metadata": {
  "kernelspec": {
   "display_name": "Python 3",
   "language": "python",
   "name": "python3"
  }
 },
 "nbformat": 4,
 "nbformat_minor": 1
}
