{
 "cells": [
  {
   "cell_type": "code",
   "execution_count": null,
   "metadata": {},
   "outputs": [],
   "source": [
    "#hide\n",
    "from espiownage.core import *"
   ]
  },
  {
   "cell_type": "markdown",
   "metadata": {},
   "source": [
    "# espiownage\n",
    "\n",
    "> Utterly dominating ESPI image inference (Pronounced like \"espionage\" but with a little \"own\" in the middle.)"
   ]
  },
  {
   "cell_type": "markdown",
   "metadata": {},
   "source": [
    "Welcome to the new phase of [SPNet](https://github.com/drscotthawley/SPNet) developement.  In this incarnation, we'll make it an image-segmentation code instead of an object detector, and we'll use [fast.ai](fast.ai).   "
   ]
  },
  {
   "cell_type": "markdown",
   "metadata": {},
   "source": [
    "## Install"
   ]
  },
  {
   "cell_type": "markdown",
   "metadata": {},
   "source": [
    "### Preliminaries\n",
    "\n",
    "Ubuntu (& probably other Linuxes):\n",
    "```bash\n",
    "$ sudo apt-get install python3-tk\n",
    "```\n",
    "\n",
    "Mac (with [Homebrew](https://brew.sh/))\n",
    "```bash\n",
    "$ brew install python3-tk\n",
    "```\n",
    "\n",
    "Then on all systems, let's set up a virtual environment called `espi`. \n",
    "I like to put my environments in `~/envs`:\n",
    "\n",
    "```\n",
    "$ mkdir ~/envs; python3 -m venv ~/envs/espi; source ~/envs/espi/bin/activate\n",
    "```\n",
    "And then you want/need to update `pip` in case it gave you an ancient version:\n",
    "\n",
    "```bash\n",
    "$ python3 -m pip install pip --upgrade\n",
    "```"
   ]
  },
  {
   "cell_type": "markdown",
   "metadata": {},
   "source": [
    "### Then to install this package all you do is...\n",
    "\n",
    "```bash\n",
    "$ pip install espiownage\n",
    "```\n",
    "Note: the requirements on this package follow a \"kitchen sink\" approach so that everything a student might need gets installed, e.g. `jupyter` and more. (And `wheel` because it speeds up the installations...I think.)"
   ]
  },
  {
   "cell_type": "markdown",
   "metadata": {},
   "source": [
    "## How to use"
   ]
  },
  {
   "cell_type": "markdown",
   "metadata": {},
   "source": [
    "### ellipse editor\n",
    "\n",
    "```bash\n",
    "ellipse_editor --files=*.csv\n",
    "```"
   ]
  },
  {
   "cell_type": "markdown",
   "metadata": {},
   "source": [
    "## Asides\n",
    "\n",
    "#### Handy tips for students\n",
    "I can never remember how to start up virtual environments / or I don't *want* to remember. So in my `~/.bashrc` file (you may have a `~/.zshrc`) I put in a line where I define an alias/function I call `gimme`, that reads like so:\n",
    "```bash\n",
    "gimme() { source ~/envs/\"$1\"/bin/activate;  }\n",
    "```\n",
    "(note that in order for this alias to be recognized, you need to either logout and log back in or else run `$ source ~/.bashrc`)\n",
    "\n",
    "Then when I want to load environment like `espi` I just type...\n",
    "```bash\n",
    "$ gimme espi\n",
    "```\n"
   ]
  },
  {
   "cell_type": "markdown",
   "metadata": {},
   "source": [
    "--Scott H. Hawley, September 2021"
   ]
  },
  {
   "cell_type": "code",
   "execution_count": null,
   "metadata": {},
   "outputs": [],
   "source": []
  }
 ],
 "metadata": {
  "kernelspec": {
   "display_name": "Python 3 (ipykernel)",
   "language": "python",
   "name": "python3"
  }
 },
 "nbformat": 4,
 "nbformat_minor": 2
}
