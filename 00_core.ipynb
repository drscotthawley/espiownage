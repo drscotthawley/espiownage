{
 "cells": [
  {
   "cell_type": "code",
   "execution_count": null,
   "metadata": {},
   "outputs": [],
   "source": [
    "# default_exp core"
   ]
  },
  {
   "cell_type": "markdown",
   "metadata": {},
   "source": [
    "# espiownage core\n",
    "\n",
    "> Core espiownage parts"
   ]
  },
  {
   "cell_type": "code",
   "execution_count": null,
   "metadata": {},
   "outputs": [],
   "source": [
    "#hide\n",
    "from nbdev.showdoc import *"
   ]
  },
  {
   "cell_type": "code",
   "execution_count": null,
   "metadata": {},
   "outputs": [],
   "source": [
    "#export \n",
    "import cv2\n",
    "import numpy as np"
   ]
  },
  {
   "cell_type": "code",
   "execution_count": null,
   "metadata": {},
   "outputs": [],
   "source": [
    "#export \n",
    "def fix_abangle(a,b,angle):\n",
    "    \"Makes sure semimajor axis > semiminor axis, and angles are consistent\"\n",
    "    if b > a:\n",
    "        a, b, angle = b, a, angle+90\n",
    "    if angle < 0: angle += 180\n",
    "    elif angle >= 180: angle -= 180\n",
    "    return a, b, angle"
   ]
  },
  {
   "cell_type": "code",
   "execution_count": null,
   "metadata": {},
   "outputs": [
    {
     "data": {
      "text/plain": [
       "(10, 5, 70)"
      ]
     },
     "execution_count": null,
     "metadata": {},
     "output_type": "execute_result"
    }
   ],
   "source": [
    "fix_abangle(5,10,-20)"
   ]
  },
  {
   "cell_type": "code",
   "execution_count": null,
   "metadata": {},
   "outputs": [],
   "source": [
    "#export \n",
    "def draw_ellipse(\n",
    "    img,     # a cv2 image, not a PIL image?\n",
    "    center, axes, angle,\n",
    "    startAngle=0, endAngle=360, color=(0) ,\n",
    "    thickness=2, lineType=cv2.LINE_AA, shift=10, filled=False):\n",
    "    \"\"\"\"Draws an ellipse into image.\n",
    "    startAngle & endAngle should are arc-angles. They should stay at 0 & 360 for full ellipses.\n",
    "    \"\"\"\n",
    "    center = [int(round(x* 2**shift)) for x in center]  \n",
    "    axes = [int(round(x* 2**shift)) for x in axes]\n",
    "    thickness = -1 if filled else thickness\n",
    "    ellipse = cv2.ellipse(\n",
    "        img, center, axes, -angle,   # -angle because the web interface is \"upside down\"\n",
    "        startAngle, endAngle, color,\n",
    "        thickness, lineType, shift)\n",
    "    return ellipse"
   ]
  },
  {
   "cell_type": "code",
   "execution_count": null,
   "metadata": {},
   "outputs": [],
   "source": [
    "img = np.zeros((512, 384), dtype=np.uint8)\n",
    "img = draw_ellipse(img, (100,100), (80,30), 45, color=100, filled=True)"
   ]
  },
  {
   "cell_type": "code",
   "execution_count": null,
   "metadata": {},
   "outputs": [],
   "source": []
  }
 ],
 "metadata": {
  "kernelspec": {
   "display_name": "Python 3 (ipykernel)",
   "language": "python",
   "name": "python3"
  }
 },
 "nbformat": 4,
 "nbformat_minor": 2
}
