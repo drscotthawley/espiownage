{
 "cells": [
  {
   "cell_type": "code",
   "execution_count": null,
   "metadata": {},
   "outputs": [],
   "source": [
    "# default_exp core"
   ]
  },
  {
   "cell_type": "markdown",
   "metadata": {},
   "source": [
    "# espiownage core\n",
    "\n",
    "> Core espiownage parts"
   ]
  },
  {
   "cell_type": "code",
   "execution_count": null,
   "metadata": {},
   "outputs": [],
   "source": [
    "#hide\n",
    "from nbdev.showdoc import *"
   ]
  },
  {
   "cell_type": "code",
   "execution_count": null,
   "metadata": {},
   "outputs": [],
   "source": [
    "#export \n",
    "import cv2\n",
    "import numpy as np\n",
    "from pathlib import Path\n",
    "import os"
   ]
  },
  {
   "cell_type": "code",
   "execution_count": null,
   "metadata": {},
   "outputs": [],
   "source": [
    "#export\n",
    "def mkdir_if_needed(path):\n",
    "    try:                # go ahead and try to make the the directory\n",
    "        os.makedirs(path)\n",
    "    except OSError as exception:\n",
    "        if exception.errno != errno.EEXIST:  # ignore error if dir already exists\n",
    "            raise"
   ]
  },
  {
   "cell_type": "code",
   "execution_count": null,
   "metadata": {},
   "outputs": [],
   "source": [
    "#export \n",
    "def meta_to_img_path(meta_file, # filename of .csv file with annotations\n",
    "    img_bank='images/',         # alternate location of image files, if not in same dir as meta file\n",
    "    ):\n",
    "    '''Suggest the image file that corresponds with an annotation CSV file'''\n",
    "    meta_file, img_dir = Path(meta_file), Path(os.path.expanduser(img_bank))\n",
    "    img_file = meta_file.with_suffix('.png')  # check same directory as meta first\n",
    "    if os.path.exists(img_file): return img_file\n",
    "    return img_dir / Path(img_file.name)  # return from image storage directory"
   ]
  },
  {
   "cell_type": "code",
   "execution_count": null,
   "metadata": {},
   "outputs": [
    {
     "data": {
      "text/plain": [
       "PosixPath('images/06241902_proc_00023.png')"
      ]
     },
     "execution_count": null,
     "metadata": {},
     "output_type": "execute_result"
    }
   ],
   "source": [
    "meta_to_img_path('annotations/06241902_proc_00023.csv')"
   ]
  },
  {
   "cell_type": "code",
   "execution_count": null,
   "metadata": {},
   "outputs": [],
   "source": [
    "#export \n",
    "def meta_to_mask_path(\n",
    "    meta_file, # filename of .csv file with annotations\n",
    "    mask_dir='masks/',  # output directory; assumed to exist\n",
    "    ):\n",
    "    \"provides name for segmentation mask file\"\n",
    "    csv_path = Path(meta_file)\n",
    "    return Path(mask_dir + csv_path.stem+'_P.png')  # _P because that's what CAMVID dataset does  "
   ]
  },
  {
   "cell_type": "code",
   "execution_count": null,
   "metadata": {},
   "outputs": [
    {
     "data": {
      "text/plain": [
       "PosixPath('masks/06241902_proc_00023_P.png')"
      ]
     },
     "execution_count": null,
     "metadata": {},
     "output_type": "execute_result"
    }
   ],
   "source": [
    "meta_to_mask_path('annotations/06241902_proc_00023.csv')"
   ]
  },
  {
   "cell_type": "code",
   "execution_count": null,
   "metadata": {},
   "outputs": [],
   "source": [
    "#export \n",
    "def fix_abangle(a,b,angle):\n",
    "    \"Makes sure semimajor axis > semiminor axis, and angles are consistent\"\n",
    "    if b > a:\n",
    "        a, b, angle = b, a, angle+90\n",
    "    if angle < 0: angle += 180\n",
    "    elif angle >= 180: angle -= 180\n",
    "    return a, b, angle"
   ]
  },
  {
   "cell_type": "code",
   "execution_count": null,
   "metadata": {},
   "outputs": [
    {
     "data": {
      "text/plain": [
       "(10, 5, 70)"
      ]
     },
     "execution_count": null,
     "metadata": {},
     "output_type": "execute_result"
    }
   ],
   "source": [
    "fix_abangle(5,10,-20)"
   ]
  },
  {
   "cell_type": "code",
   "execution_count": null,
   "metadata": {},
   "outputs": [],
   "source": [
    "#export \n",
    "def draw_ellipse(\n",
    "    img,     # a cv2 image, not a PIL image?\n",
    "    center, axes, angle,\n",
    "    startAngle=0, endAngle=360, color=(0) ,\n",
    "    thickness=2, lineType=cv2.LINE_AA, shift=10, filled=False):\n",
    "    \"\"\"\"Draws an ellipse into image.\n",
    "    startAngle & endAngle should are arc-angles. They should stay at 0 & 360 for full ellipses.\n",
    "    \"\"\"\n",
    "    center = [int(round(x* 2**shift)) for x in center]  \n",
    "    axes = [int(round(x* 2**shift)) for x in axes]\n",
    "    thickness = -1 if filled else thickness\n",
    "    ellipse = cv2.ellipse(\n",
    "        img, center, axes, -angle,   # -angle because the web interface is \"upside down\"\n",
    "        startAngle, endAngle, color,\n",
    "        thickness, lineType, shift)\n",
    "    return ellipse"
   ]
  },
  {
   "cell_type": "code",
   "execution_count": null,
   "metadata": {},
   "outputs": [],
   "source": [
    "height, width = 512,384\n",
    "img = np.zeros((width, height), dtype=np.uint8)  # numpy w/h is \"backwards\" to images\n",
    "img = draw_ellipse(img, (100,100), (80,30), 45, color=100, filled=True)"
   ]
  },
  {
   "cell_type": "code",
   "execution_count": null,
   "metadata": {},
   "outputs": [],
   "source": []
  }
 ],
 "metadata": {
  "kernelspec": {
   "display_name": "Python 3 (ipykernel)",
   "language": "python",
   "name": "python3"
  }
 },
 "nbformat": 4,
 "nbformat_minor": 2
}
